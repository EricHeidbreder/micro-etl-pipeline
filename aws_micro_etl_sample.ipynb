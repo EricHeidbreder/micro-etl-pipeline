{
 "cells": [
  {
   "cell_type": "markdown",
   "metadata": {},
   "source": [
    "# AWS micro ETL sample\n",
    "This sample uses publicly available data from the [HM land registry](https://www.gov.uk/government/organisations/land-registry) containing average price by property type series.  \n",
    "You can customise the file with your own data source."
   ]
  },
  {
   "cell_type": "markdown",
   "metadata": {},
   "source": [
    "## Import required libraries"
   ]
  },
  {
   "cell_type": "code",
   "execution_count": 1,
   "metadata": {},
   "outputs": [],
   "source": [
    "import pandas as pd\n",
    "import requests\n",
    "import io\n",
    "import matplotlib.pyplot as plt"
   ]
  },
  {
   "cell_type": "markdown",
   "metadata": {},
   "source": [
    "## Define URL to query"
   ]
  },
  {
   "cell_type": "code",
   "execution_count": 2,
   "metadata": {},
   "outputs": [],
   "source": [
    "URL = 'http://publicdata.landregistry.gov.uk/market-trend-data/house-price-index-data/Average-prices-Property-Type-2019-04.csv'"
   ]
  },
  {
   "cell_type": "markdown",
   "metadata": {},
   "source": [
    "## Print response header\n",
    "You can use the following code to print the `Content-Length` header which indicates the size of the entity body in the message, in bytes.\n",
    "In addition, you can see weather the server is supports partial request: `'Accept-Ranges': 'bytes'` or `none`"
   ]
  },
  {
   "cell_type": "code",
   "execution_count": 3,
   "metadata": {},
   "outputs": [
    {
     "name": "stdout",
     "output_type": "stream",
     "text": [
      "Total bytes: 27137098\n",
      "Accept ranges: bytes\n"
     ]
    }
   ],
   "source": [
    "head = requests.head(URL)\n",
    "print('Total bytes:', head.headers['Content-Length'])\n",
    "print('Accept ranges:', head.headers['Accept-Ranges'])"
   ]
  },
  {
   "cell_type": "markdown",
   "metadata": {},
   "source": [
    "## Partial requests\n",
    "If the file is too big, the micro ETL process is more likely to exaust the resources or go in timeout.  \n",
    "For that reason, if the server accept partial request you can use the following function defining a `start` and `end` range of bytes you would like to retrieve.\n",
    "\n",
    "Example of accepted value from the below function:  \n",
    "- `range_header(0, 499)` which results in `Range: bytes=0-499` to fetch the first 499 bytes\n",
    "- `range_header(100, 300)` which results in `Range: bytes=100-300` to fetch from the 100 to the 300 bytes\n",
    "- `range_header(-500)` which results in `Range: bytes=-500` to fetch the last 500 bytes"
   ]
  },
  {
   "cell_type": "code",
   "execution_count": 4,
   "metadata": {},
   "outputs": [],
   "source": [
    "def range_header(start=0, end=0):    \n",
    "    if start < 0 and end == 0:\n",
    "        byte_range = 'bytes=%s' % (start)\n",
    "    else:        \n",
    "        byte_range = 'bytes=%s-%s' % (start, end)\n",
    "\n",
    "    return {'Range': byte_range}"
   ]
  },
  {
   "cell_type": "markdown",
   "metadata": {},
   "source": [
    "## If you want to get part of the file\n",
    "If you want to get part of the file, use a statement similar to the one below."
   ]
  },
  {
   "cell_type": "code",
   "execution_count": 5,
   "metadata": {},
   "outputs": [
    {
     "name": "stderr",
     "output_type": "stream",
     "text": [
      "C:\\Users\\EricHeidbreder\\AppData\\Local\\Temp\\ipykernel_16216\\146663315.py:5: FutureWarning: The error_bad_lines argument has been deprecated and will be removed in a future version. Use on_bad_lines in the future.\n",
      "\n",
      "\n",
      "  df = pd.read_csv(io.StringIO(res.content.decode('utf-8')), engine='python', error_bad_lines=False)\n"
     ]
    },
    {
     "data": {
      "text/plain": [
       "867236"
      ]
     },
     "execution_count": 5,
     "metadata": {},
     "output_type": "execute_result"
    }
   ],
   "source": [
    "# Fetches the first 10000000 bytes\n",
    "res = requests.get(URL, headers=range_header(0, 10000000), allow_redirects=True)\n",
    "\n",
    "# Import the data in a pandas DataFrame from the IO stream (without the need of creating a file)\n",
    "df = pd.read_csv(io.StringIO(res.content.decode('utf-8')), engine='python', error_bad_lines=False)\n",
    "\n",
    "# Number of elements in the array.\n",
    "df.size"
   ]
  },
  {
   "cell_type": "markdown",
   "metadata": {},
   "source": [
    "__NOTE__ When you deal with partial file, it is very likely that the last element in the list contains empty values as `NaN`\n",
    "You might want to remove the last element either with: `df.drop(df.tail(1).index,inplace=True)` or using the `skipfooter=1` parameter inside the `pd.read_csv` call"
   ]
  },
  {
   "cell_type": "markdown",
   "metadata": {},
   "source": [
    "## If you want to get the full file\n",
    "Pandas is a great library and allows you to create a DataFrame directly from a URL."
   ]
  },
  {
   "cell_type": "code",
   "execution_count": 6,
   "metadata": {},
   "outputs": [
    {
     "data": {
      "text/plain": [
       "2311312"
      ]
     },
     "execution_count": 6,
     "metadata": {},
     "output_type": "execute_result"
    }
   ],
   "source": [
    "df = pd.read_csv(URL)\n",
    "\n",
    "# Number of elements in the array.\n",
    "df.size"
   ]
  },
  {
   "cell_type": "code",
   "execution_count": 7,
   "metadata": {},
   "outputs": [
    {
     "data": {
      "text/plain": [
       "Index(['Date', 'Region_Name', 'Area_Code', 'Detached_Average_Price',\n",
       "       'Detached_Index', 'Detached_Monthly_Change', 'Detached_Annual_Change',\n",
       "       'Semi_Detached_Average_Price', 'Semi_Detached_Index',\n",
       "       'Semi_Detached_Monthly_Change', 'Semi_Detached_Annual_Change',\n",
       "       'Terraced_Average_Price', 'Terraced_Index', 'Terraced_Monthly_Change',\n",
       "       'Terraced_Annual_Change', 'Flat_Average_Price', 'Flat_Index',\n",
       "       'Flat_Monthly_Change', 'Flat_Annual_Change'],\n",
       "      dtype='object')"
      ]
     },
     "execution_count": 7,
     "metadata": {},
     "output_type": "execute_result"
    }
   ],
   "source": [
    "#DataFrame headers\n",
    "df.columns"
   ]
  },
  {
   "cell_type": "markdown",
   "metadata": {},
   "source": [
    "## What if my source is a JSON file\n",
    "As you can imagine pandas supports different type of sources JSON included.\n",
    "\n",
    "`pd.read_json('file_or_url.json')`\n",
    "\n",
    "[See the official documentation for more info](https://pandas.pydata.org/pandas-docs/stable/reference/api/pandas.read_json.html)"
   ]
  },
  {
   "cell_type": "markdown",
   "metadata": {},
   "source": [
    "## What if my source is an Excel file\n",
    "No problem at all pandas supports xls, xlsx, xlsm, xlsb, and odf file extensions read from a local filesystem or URL.\n",
    "\n",
    "`pd.read_excel('file_or_url.xlsx')`\n",
    "\n",
    "[See the official documentation for more info](https://pandas.pydata.org/pandas-docs/stable/reference/api/pandas.read_excel.html)"
   ]
  },
  {
   "cell_type": "markdown",
   "metadata": {},
   "source": [
    "## Inspect the data"
   ]
  },
  {
   "cell_type": "code",
   "execution_count": 8,
   "metadata": {},
   "outputs": [
    {
     "data": {
      "text/plain": [
       "Index(['Date', 'Region_Name', 'Area_Code', 'Detached_Average_Price',\n",
       "       'Detached_Index', 'Detached_Monthly_Change', 'Detached_Annual_Change',\n",
       "       'Semi_Detached_Average_Price', 'Semi_Detached_Index',\n",
       "       'Semi_Detached_Monthly_Change', 'Semi_Detached_Annual_Change',\n",
       "       'Terraced_Average_Price', 'Terraced_Index', 'Terraced_Monthly_Change',\n",
       "       'Terraced_Annual_Change', 'Flat_Average_Price', 'Flat_Index',\n",
       "       'Flat_Monthly_Change', 'Flat_Annual_Change'],\n",
       "      dtype='object')"
      ]
     },
     "execution_count": 8,
     "metadata": {},
     "output_type": "execute_result"
    }
   ],
   "source": [
    "# Columns in the array\n",
    "df.columns"
   ]
  },
  {
   "cell_type": "code",
   "execution_count": 9,
   "metadata": {},
   "outputs": [
    {
     "data": {
      "text/html": [
       "<div>\n",
       "<style scoped>\n",
       "    .dataframe tbody tr th:only-of-type {\n",
       "        vertical-align: middle;\n",
       "    }\n",
       "\n",
       "    .dataframe tbody tr th {\n",
       "        vertical-align: top;\n",
       "    }\n",
       "\n",
       "    .dataframe thead th {\n",
       "        text-align: right;\n",
       "    }\n",
       "</style>\n",
       "<table border=\"1\" class=\"dataframe\">\n",
       "  <thead>\n",
       "    <tr style=\"text-align: right;\">\n",
       "      <th></th>\n",
       "      <th>Date</th>\n",
       "      <th>Region_Name</th>\n",
       "      <th>Area_Code</th>\n",
       "      <th>Detached_Average_Price</th>\n",
       "      <th>Detached_Index</th>\n",
       "      <th>Detached_Monthly_Change</th>\n",
       "      <th>Detached_Annual_Change</th>\n",
       "      <th>Semi_Detached_Average_Price</th>\n",
       "      <th>Semi_Detached_Index</th>\n",
       "      <th>Semi_Detached_Monthly_Change</th>\n",
       "      <th>Semi_Detached_Annual_Change</th>\n",
       "      <th>Terraced_Average_Price</th>\n",
       "      <th>Terraced_Index</th>\n",
       "      <th>Terraced_Monthly_Change</th>\n",
       "      <th>Terraced_Annual_Change</th>\n",
       "      <th>Flat_Average_Price</th>\n",
       "      <th>Flat_Index</th>\n",
       "      <th>Flat_Monthly_Change</th>\n",
       "      <th>Flat_Annual_Change</th>\n",
       "    </tr>\n",
       "  </thead>\n",
       "  <tbody>\n",
       "    <tr>\n",
       "      <th>121647</th>\n",
       "      <td>2019-04-01</td>\n",
       "      <td>United Kingdom</td>\n",
       "      <td>K02000001</td>\n",
       "      <td>349793.3352</td>\n",
       "      <td>121.569447</td>\n",
       "      <td>1.016012</td>\n",
       "      <td>2.666747</td>\n",
       "      <td>216938.0257</td>\n",
       "      <td>121.343178</td>\n",
       "      <td>0.220195</td>\n",
       "      <td>1.982323</td>\n",
       "      <td>186586.6011</td>\n",
       "      <td>120.794447</td>\n",
       "      <td>1.497215</td>\n",
       "      <td>1.856394</td>\n",
       "      <td>199018.4518</td>\n",
       "      <td>115.627829</td>\n",
       "      <td>0.060925</td>\n",
       "      <td>-1.569053</td>\n",
       "    </tr>\n",
       "  </tbody>\n",
       "</table>\n",
       "</div>"
      ],
      "text/plain": [
       "              Date     Region_Name  Area_Code  Detached_Average_Price  \\\n",
       "121647  2019-04-01  United Kingdom  K02000001             349793.3352   \n",
       "\n",
       "        Detached_Index  Detached_Monthly_Change  Detached_Annual_Change  \\\n",
       "121647      121.569447                 1.016012                2.666747   \n",
       "\n",
       "        Semi_Detached_Average_Price  Semi_Detached_Index  \\\n",
       "121647                  216938.0257           121.343178   \n",
       "\n",
       "        Semi_Detached_Monthly_Change  Semi_Detached_Annual_Change  \\\n",
       "121647                      0.220195                     1.982323   \n",
       "\n",
       "        Terraced_Average_Price  Terraced_Index  Terraced_Monthly_Change  \\\n",
       "121647             186586.6011      120.794447                 1.497215   \n",
       "\n",
       "        Terraced_Annual_Change  Flat_Average_Price  Flat_Index  \\\n",
       "121647                1.856394         199018.4518  115.627829   \n",
       "\n",
       "        Flat_Monthly_Change  Flat_Annual_Change  \n",
       "121647             0.060925           -1.569053  "
      ]
     },
     "execution_count": 9,
     "metadata": {},
     "output_type": "execute_result"
    }
   ],
   "source": [
    "# Last element\n",
    "df.tail(1) "
   ]
  },
  {
   "cell_type": "code",
   "execution_count": 10,
   "metadata": {},
   "outputs": [
    {
     "data": {
      "text/html": [
       "<div>\n",
       "<style scoped>\n",
       "    .dataframe tbody tr th:only-of-type {\n",
       "        vertical-align: middle;\n",
       "    }\n",
       "\n",
       "    .dataframe tbody tr th {\n",
       "        vertical-align: top;\n",
       "    }\n",
       "\n",
       "    .dataframe thead th {\n",
       "        text-align: right;\n",
       "    }\n",
       "</style>\n",
       "<table border=\"1\" class=\"dataframe\">\n",
       "  <thead>\n",
       "    <tr style=\"text-align: right;\">\n",
       "      <th></th>\n",
       "      <th>Date</th>\n",
       "      <th>Region_Name</th>\n",
       "      <th>Area_Code</th>\n",
       "      <th>Detached_Average_Price</th>\n",
       "      <th>Detached_Index</th>\n",
       "      <th>Detached_Monthly_Change</th>\n",
       "      <th>Detached_Annual_Change</th>\n",
       "      <th>Semi_Detached_Average_Price</th>\n",
       "      <th>Semi_Detached_Index</th>\n",
       "      <th>Semi_Detached_Monthly_Change</th>\n",
       "      <th>Semi_Detached_Annual_Change</th>\n",
       "      <th>Terraced_Average_Price</th>\n",
       "      <th>Terraced_Index</th>\n",
       "      <th>Terraced_Monthly_Change</th>\n",
       "      <th>Terraced_Annual_Change</th>\n",
       "      <th>Flat_Average_Price</th>\n",
       "      <th>Flat_Index</th>\n",
       "      <th>Flat_Monthly_Change</th>\n",
       "      <th>Flat_Annual_Change</th>\n",
       "    </tr>\n",
       "  </thead>\n",
       "  <tbody>\n",
       "    <tr>\n",
       "      <th>0</th>\n",
       "      <td>1995-01-01</td>\n",
       "      <td>England</td>\n",
       "      <td>E92000001</td>\n",
       "      <td>86314.15895</td>\n",
       "      <td>28.257874</td>\n",
       "      <td>NaN</td>\n",
       "      <td>NaN</td>\n",
       "      <td>51533.22543</td>\n",
       "      <td>27.436474</td>\n",
       "      <td>NaN</td>\n",
       "      <td>NaN</td>\n",
       "      <td>41489.82431</td>\n",
       "      <td>25.279664</td>\n",
       "      <td>NaN</td>\n",
       "      <td>NaN</td>\n",
       "      <td>45218.54082</td>\n",
       "      <td>23.762969</td>\n",
       "      <td>NaN</td>\n",
       "      <td>NaN</td>\n",
       "    </tr>\n",
       "  </tbody>\n",
       "</table>\n",
       "</div>"
      ],
      "text/plain": [
       "         Date Region_Name  Area_Code  Detached_Average_Price  Detached_Index  \\\n",
       "0  1995-01-01     England  E92000001             86314.15895       28.257874   \n",
       "\n",
       "   Detached_Monthly_Change  Detached_Annual_Change  \\\n",
       "0                      NaN                     NaN   \n",
       "\n",
       "   Semi_Detached_Average_Price  Semi_Detached_Index  \\\n",
       "0                  51533.22543            27.436474   \n",
       "\n",
       "   Semi_Detached_Monthly_Change  Semi_Detached_Annual_Change  \\\n",
       "0                           NaN                          NaN   \n",
       "\n",
       "   Terraced_Average_Price  Terraced_Index  Terraced_Monthly_Change  \\\n",
       "0             41489.82431       25.279664                      NaN   \n",
       "\n",
       "   Terraced_Annual_Change  Flat_Average_Price  Flat_Index  \\\n",
       "0                     NaN         45218.54082   23.762969   \n",
       "\n",
       "   Flat_Monthly_Change  Flat_Annual_Change  \n",
       "0                  NaN                 NaN  "
      ]
     },
     "execution_count": 10,
     "metadata": {},
     "output_type": "execute_result"
    }
   ],
   "source": [
    "# First element\n",
    "df.head(1)"
   ]
  },
  {
   "cell_type": "code",
   "execution_count": 11,
   "metadata": {
    "scrolled": true
   },
   "outputs": [
    {
     "data": {
      "text/html": [
       "<div>\n",
       "<style scoped>\n",
       "    .dataframe tbody tr th:only-of-type {\n",
       "        vertical-align: middle;\n",
       "    }\n",
       "\n",
       "    .dataframe tbody tr th {\n",
       "        vertical-align: top;\n",
       "    }\n",
       "\n",
       "    .dataframe thead th {\n",
       "        text-align: right;\n",
       "    }\n",
       "</style>\n",
       "<table border=\"1\" class=\"dataframe\">\n",
       "  <thead>\n",
       "    <tr style=\"text-align: right;\">\n",
       "      <th></th>\n",
       "      <th>Date</th>\n",
       "      <th>Region_Name</th>\n",
       "      <th>Area_Code</th>\n",
       "      <th>Detached_Average_Price</th>\n",
       "      <th>Detached_Index</th>\n",
       "      <th>Detached_Monthly_Change</th>\n",
       "      <th>Detached_Annual_Change</th>\n",
       "      <th>Semi_Detached_Average_Price</th>\n",
       "      <th>Semi_Detached_Index</th>\n",
       "      <th>Semi_Detached_Monthly_Change</th>\n",
       "      <th>Semi_Detached_Annual_Change</th>\n",
       "      <th>Terraced_Average_Price</th>\n",
       "      <th>Terraced_Index</th>\n",
       "      <th>Terraced_Monthly_Change</th>\n",
       "      <th>Terraced_Annual_Change</th>\n",
       "      <th>Flat_Average_Price</th>\n",
       "      <th>Flat_Index</th>\n",
       "      <th>Flat_Monthly_Change</th>\n",
       "      <th>Flat_Annual_Change</th>\n",
       "    </tr>\n",
       "  </thead>\n",
       "  <tbody>\n",
       "    <tr>\n",
       "      <th>42553</th>\n",
       "      <td>2004-01-01</td>\n",
       "      <td>Scotland</td>\n",
       "      <td>S92000003</td>\n",
       "      <td>144192.8664</td>\n",
       "      <td>62.044837</td>\n",
       "      <td>NaN</td>\n",
       "      <td>NaN</td>\n",
       "      <td>82319.95238</td>\n",
       "      <td>58.637191</td>\n",
       "      <td>NaN</td>\n",
       "      <td>NaN</td>\n",
       "      <td>62204.98712</td>\n",
       "      <td>55.210862</td>\n",
       "      <td>NaN</td>\n",
       "      <td>NaN</td>\n",
       "      <td>60706.10495</td>\n",
       "      <td>62.490360</td>\n",
       "      <td>NaN</td>\n",
       "      <td>NaN</td>\n",
       "    </tr>\n",
       "    <tr>\n",
       "      <th>42981</th>\n",
       "      <td>2004-02-01</td>\n",
       "      <td>Scotland</td>\n",
       "      <td>S92000003</td>\n",
       "      <td>135808.1112</td>\n",
       "      <td>58.436955</td>\n",
       "      <td>-5.814958</td>\n",
       "      <td>NaN</td>\n",
       "      <td>80406.76281</td>\n",
       "      <td>57.274410</td>\n",
       "      <td>-2.324090</td>\n",
       "      <td>NaN</td>\n",
       "      <td>61527.07156</td>\n",
       "      <td>54.609169</td>\n",
       "      <td>-1.089809</td>\n",
       "      <td>NaN</td>\n",
       "      <td>61568.85927</td>\n",
       "      <td>63.378472</td>\n",
       "      <td>1.421199</td>\n",
       "      <td>NaN</td>\n",
       "    </tr>\n",
       "    <tr>\n",
       "      <th>43410</th>\n",
       "      <td>2004-03-01</td>\n",
       "      <td>Scotland</td>\n",
       "      <td>S92000003</td>\n",
       "      <td>142270.4808</td>\n",
       "      <td>61.217652</td>\n",
       "      <td>4.758456</td>\n",
       "      <td>NaN</td>\n",
       "      <td>84169.98869</td>\n",
       "      <td>59.954987</td>\n",
       "      <td>4.680236</td>\n",
       "      <td>NaN</td>\n",
       "      <td>64646.04179</td>\n",
       "      <td>57.377453</td>\n",
       "      <td>5.069265</td>\n",
       "      <td>NaN</td>\n",
       "      <td>62769.97960</td>\n",
       "      <td>64.614895</td>\n",
       "      <td>1.950857</td>\n",
       "      <td>NaN</td>\n",
       "    </tr>\n",
       "  </tbody>\n",
       "</table>\n",
       "</div>"
      ],
      "text/plain": [
       "             Date Region_Name  Area_Code  Detached_Average_Price  \\\n",
       "42553  2004-01-01    Scotland  S92000003             144192.8664   \n",
       "42981  2004-02-01    Scotland  S92000003             135808.1112   \n",
       "43410  2004-03-01    Scotland  S92000003             142270.4808   \n",
       "\n",
       "       Detached_Index  Detached_Monthly_Change  Detached_Annual_Change  \\\n",
       "42553       62.044837                      NaN                     NaN   \n",
       "42981       58.436955                -5.814958                     NaN   \n",
       "43410       61.217652                 4.758456                     NaN   \n",
       "\n",
       "       Semi_Detached_Average_Price  Semi_Detached_Index  \\\n",
       "42553                  82319.95238            58.637191   \n",
       "42981                  80406.76281            57.274410   \n",
       "43410                  84169.98869            59.954987   \n",
       "\n",
       "       Semi_Detached_Monthly_Change  Semi_Detached_Annual_Change  \\\n",
       "42553                           NaN                          NaN   \n",
       "42981                     -2.324090                          NaN   \n",
       "43410                      4.680236                          NaN   \n",
       "\n",
       "       Terraced_Average_Price  Terraced_Index  Terraced_Monthly_Change  \\\n",
       "42553             62204.98712       55.210862                      NaN   \n",
       "42981             61527.07156       54.609169                -1.089809   \n",
       "43410             64646.04179       57.377453                 5.069265   \n",
       "\n",
       "       Terraced_Annual_Change  Flat_Average_Price  Flat_Index  \\\n",
       "42553                     NaN         60706.10495   62.490360   \n",
       "42981                     NaN         61568.85927   63.378472   \n",
       "43410                     NaN         62769.97960   64.614895   \n",
       "\n",
       "       Flat_Monthly_Change  Flat_Annual_Change  \n",
       "42553                  NaN                 NaN  \n",
       "42981             1.421199                 NaN  \n",
       "43410             1.950857                 NaN  "
      ]
     },
     "execution_count": 11,
     "metadata": {},
     "output_type": "execute_result"
    }
   ],
   "source": [
    "# Show only the first 3 row for Scotland\n",
    "df[df['Region_Name'] == 'Scotland'].head(3)"
   ]
  },
  {
   "cell_type": "code",
   "execution_count": 12,
   "metadata": {},
   "outputs": [
    {
     "data": {
      "image/png": "[encoded data removed]",
      "text/plain": [
       "<Figure size 640x480 with 1 Axes>"
      ]
     },
     "metadata": {},
     "output_type": "display_data"
    }
   ],
   "source": [
    "# Plot the flat average price\n",
    "df.plot('Date',y=['Flat_Average_Price'])\n",
    "plt.show()"
   ]
  },
  {
   "cell_type": "markdown",
   "metadata": {},
   "source": [
    "## Data manipulation\n",
    "Let's say we only want to have the `Flat_Average_Price` from 2010 to 2020"
   ]
  },
  {
   "cell_type": "markdown",
   "metadata": {},
   "source": [
    "Sometimes you need to convert the Date column in datetime64 dtype so you can use dates more effectively, this can be done with statement similar to this: \n",
    "`df['Date'] = pd.to_datetime(df['Date'], format=\"%Y-%m-%d\")`"
   ]
  },
  {
   "cell_type": "code",
   "execution_count": 13,
   "metadata": {},
   "outputs": [
    {
     "data": {
      "text/plain": [
       "228"
      ]
     },
     "execution_count": 13,
     "metadata": {},
     "output_type": "execute_result"
    }
   ],
   "source": [
    "# Finally we can only grab the 2018 rows where region name is England\n",
    "start_date = '2018-01-01'\n",
    "end_date = '2018-12-31'\n",
    "search = (df['Date'] >= start_date) & (df['Date'] <= end_date) & (df['Region_Name'] == 'England')\n",
    "\n",
    "df[search].size"
   ]
  },
  {
   "cell_type": "code",
   "execution_count": 14,
   "metadata": {},
   "outputs": [
    {
     "data": {
      "image/png": "[encoded data removed]",
      "text/plain": [
       "<Figure size 640x480 with 1 Axes>"
      ]
     },
     "metadata": {},
     "output_type": "display_data"
    }
   ],
   "source": [
    "# Let's plot it again\n",
    "df[search].plot('Date',y=['Flat_Average_Price'])\n",
    "plt.show()"
   ]
  },
  {
   "cell_type": "markdown",
   "metadata": {},
   "source": [
    "## Saving on S3\n",
    "The beauty of panda is that can automatically save the DataFrame as csv file in an S3 bucket with the following statement."
   ]
  },
  {
   "cell_type": "code",
   "execution_count": 15,
   "metadata": {},
   "outputs": [
    {
     "ename": "PermissionError",
     "evalue": "Access Denied",
     "output_type": "error",
     "traceback": [
      "\u001b[1;31m---------------------------------------------------------------------------\u001b[0m",
      "\u001b[1;31mClientError\u001b[0m                               Traceback (most recent call last)",
      "File \u001b[1;32mc:\\ProgramData\\anaconda3\\envs\\aws-micro-etl\\Lib\\site-packages\\s3fs\\core.py:112\u001b[0m, in \u001b[0;36m_error_wrapper\u001b[1;34m(func, args, kwargs, retries)\u001b[0m\n\u001b[0;32m    111\u001b[0m \u001b[39mtry\u001b[39;00m:\n\u001b[1;32m--> 112\u001b[0m     \u001b[39mreturn\u001b[39;00m \u001b[39mawait\u001b[39;00m func(\u001b[39m*\u001b[39margs, \u001b[39m*\u001b[39m\u001b[39m*\u001b[39mkwargs)\n\u001b[0;32m    113\u001b[0m \u001b[39mexcept\u001b[39;00m S3_RETRYABLE_ERRORS \u001b[39mas\u001b[39;00m e:\n",
      "File \u001b[1;32mc:\\ProgramData\\anaconda3\\envs\\aws-micro-etl\\Lib\\site-packages\\aiobotocore\\client.py:358\u001b[0m, in \u001b[0;36mAioBaseClient._make_api_call\u001b[1;34m(self, operation_name, api_params)\u001b[0m\n\u001b[0;32m    357\u001b[0m     error_class \u001b[39m=\u001b[39m \u001b[39mself\u001b[39m\u001b[39m.\u001b[39mexceptions\u001b[39m.\u001b[39mfrom_code(error_code)\n\u001b[1;32m--> 358\u001b[0m     \u001b[39mraise\u001b[39;00m error_class(parsed_response, operation_name)\n\u001b[0;32m    359\u001b[0m \u001b[39melse\u001b[39;00m:\n",
      "\u001b[1;31mClientError\u001b[0m: An error occurred (AccessDenied) when calling the CreateBucket operation: Access Denied",
      "\nThe above exception was the direct cause of the following exception:\n",
      "\u001b[1;31mPermissionError\u001b[0m                           Traceback (most recent call last)",
      "Cell \u001b[1;32mIn[15], line 1\u001b[0m\n\u001b[1;32m----> 1\u001b[0m df\u001b[39m.\u001b[39mto_csv(\u001b[39m'\u001b[39m\u001b[39ms3://test/test_flat_price.csv\u001b[39m\u001b[39m'\u001b[39m)\n",
      "File \u001b[1;32mc:\\ProgramData\\anaconda3\\envs\\aws-micro-etl\\Lib\\site-packages\\pandas\\util\\_decorators.py:211\u001b[0m, in \u001b[0;36mdeprecate_kwarg.<locals>._deprecate_kwarg.<locals>.wrapper\u001b[1;34m(*args, **kwargs)\u001b[0m\n\u001b[0;32m    209\u001b[0m     \u001b[39melse\u001b[39;00m:\n\u001b[0;32m    210\u001b[0m         kwargs[new_arg_name] \u001b[39m=\u001b[39m new_arg_value\n\u001b[1;32m--> 211\u001b[0m \u001b[39mreturn\u001b[39;00m func(\u001b[39m*\u001b[39margs, \u001b[39m*\u001b[39m\u001b[39m*\u001b[39mkwargs)\n",
      "File \u001b[1;32mc:\\ProgramData\\anaconda3\\envs\\aws-micro-etl\\Lib\\site-packages\\pandas\\core\\generic.py:3720\u001b[0m, in \u001b[0;36mNDFrame.to_csv\u001b[1;34m(self, path_or_buf, sep, na_rep, float_format, columns, header, index, index_label, mode, encoding, compression, quoting, quotechar, lineterminator, chunksize, date_format, doublequote, escapechar, decimal, errors, storage_options)\u001b[0m\n\u001b[0;32m   3709\u001b[0m df \u001b[39m=\u001b[39m \u001b[39mself\u001b[39m \u001b[39mif\u001b[39;00m \u001b[39misinstance\u001b[39m(\u001b[39mself\u001b[39m, ABCDataFrame) \u001b[39melse\u001b[39;00m \u001b[39mself\u001b[39m\u001b[39m.\u001b[39mto_frame()\n\u001b[0;32m   3711\u001b[0m formatter \u001b[39m=\u001b[39m DataFrameFormatter(\n\u001b[0;32m   3712\u001b[0m     frame\u001b[39m=\u001b[39mdf,\n\u001b[0;32m   3713\u001b[0m     header\u001b[39m=\u001b[39mheader,\n\u001b[1;32m   (...)\u001b[0m\n\u001b[0;32m   3717\u001b[0m     decimal\u001b[39m=\u001b[39mdecimal,\n\u001b[0;32m   3718\u001b[0m )\n\u001b[1;32m-> 3720\u001b[0m \u001b[39mreturn\u001b[39;00m DataFrameRenderer(formatter)\u001b[39m.\u001b[39mto_csv(\n\u001b[0;32m   3721\u001b[0m     path_or_buf,\n\u001b[0;32m   3722\u001b[0m     lineterminator\u001b[39m=\u001b[39mlineterminator,\n\u001b[0;32m   3723\u001b[0m     sep\u001b[39m=\u001b[39msep,\n\u001b[0;32m   3724\u001b[0m     encoding\u001b[39m=\u001b[39mencoding,\n\u001b[0;32m   3725\u001b[0m     errors\u001b[39m=\u001b[39merrors,\n\u001b[0;32m   3726\u001b[0m     compression\u001b[39m=\u001b[39mcompression,\n\u001b[0;32m   3727\u001b[0m     quoting\u001b[39m=\u001b[39mquoting,\n\u001b[0;32m   3728\u001b[0m     columns\u001b[39m=\u001b[39mcolumns,\n\u001b[0;32m   3729\u001b[0m     index_label\u001b[39m=\u001b[39mindex_label,\n\u001b[0;32m   3730\u001b[0m     mode\u001b[39m=\u001b[39mmode,\n\u001b[0;32m   3731\u001b[0m     chunksize\u001b[39m=\u001b[39mchunksize,\n\u001b[0;32m   3732\u001b[0m     quotechar\u001b[39m=\u001b[39mquotechar,\n\u001b[0;32m   3733\u001b[0m     date_format\u001b[39m=\u001b[39mdate_format,\n\u001b[0;32m   3734\u001b[0m     doublequote\u001b[39m=\u001b[39mdoublequote,\n\u001b[0;32m   3735\u001b[0m     escapechar\u001b[39m=\u001b[39mescapechar,\n\u001b[0;32m   3736\u001b[0m     storage_options\u001b[39m=\u001b[39mstorage_options,\n\u001b[0;32m   3737\u001b[0m )\n",
      "File \u001b[1;32mc:\\ProgramData\\anaconda3\\envs\\aws-micro-etl\\Lib\\site-packages\\pandas\\util\\_decorators.py:211\u001b[0m, in \u001b[0;36mdeprecate_kwarg.<locals>._deprecate_kwarg.<locals>.wrapper\u001b[1;34m(*args, **kwargs)\u001b[0m\n\u001b[0;32m    209\u001b[0m     \u001b[39melse\u001b[39;00m:\n\u001b[0;32m    210\u001b[0m         kwargs[new_arg_name] \u001b[39m=\u001b[39m new_arg_value\n\u001b[1;32m--> 211\u001b[0m \u001b[39mreturn\u001b[39;00m func(\u001b[39m*\u001b[39margs, \u001b[39m*\u001b[39m\u001b[39m*\u001b[39mkwargs)\n",
      "File \u001b[1;32mc:\\ProgramData\\anaconda3\\envs\\aws-micro-etl\\Lib\\site-packages\\pandas\\io\\formats\\format.py:1189\u001b[0m, in \u001b[0;36mDataFrameRenderer.to_csv\u001b[1;34m(self, path_or_buf, encoding, sep, columns, index_label, mode, compression, quoting, quotechar, lineterminator, chunksize, date_format, doublequote, escapechar, errors, storage_options)\u001b[0m\n\u001b[0;32m   1168\u001b[0m     created_buffer \u001b[39m=\u001b[39m \u001b[39mFalse\u001b[39;00m\n\u001b[0;32m   1170\u001b[0m csv_formatter \u001b[39m=\u001b[39m CSVFormatter(\n\u001b[0;32m   1171\u001b[0m     path_or_buf\u001b[39m=\u001b[39mpath_or_buf,\n\u001b[0;32m   1172\u001b[0m     lineterminator\u001b[39m=\u001b[39mlineterminator,\n\u001b[1;32m   (...)\u001b[0m\n\u001b[0;32m   1187\u001b[0m     formatter\u001b[39m=\u001b[39m\u001b[39mself\u001b[39m\u001b[39m.\u001b[39mfmt,\n\u001b[0;32m   1188\u001b[0m )\n\u001b[1;32m-> 1189\u001b[0m csv_formatter\u001b[39m.\u001b[39msave()\n\u001b[0;32m   1191\u001b[0m \u001b[39mif\u001b[39;00m created_buffer:\n\u001b[0;32m   1192\u001b[0m     \u001b[39massert\u001b[39;00m \u001b[39misinstance\u001b[39m(path_or_buf, StringIO)\n",
      "File \u001b[1;32mc:\\ProgramData\\anaconda3\\envs\\aws-micro-etl\\Lib\\site-packages\\pandas\\io\\formats\\csvs.py:241\u001b[0m, in \u001b[0;36mCSVFormatter.save\u001b[1;34m(self)\u001b[0m\n\u001b[0;32m    237\u001b[0m \u001b[39m\"\"\"\u001b[39;00m\n\u001b[0;32m    238\u001b[0m \u001b[39mCreate the writer & save.\u001b[39;00m\n\u001b[0;32m    239\u001b[0m \u001b[39m\"\"\"\u001b[39;00m\n\u001b[0;32m    240\u001b[0m \u001b[39m# apply compression and byte/text conversion\u001b[39;00m\n\u001b[1;32m--> 241\u001b[0m \u001b[39mwith\u001b[39;00m get_handle(\n\u001b[0;32m    242\u001b[0m     \u001b[39mself\u001b[39m\u001b[39m.\u001b[39mfilepath_or_buffer,\n\u001b[0;32m    243\u001b[0m     \u001b[39mself\u001b[39m\u001b[39m.\u001b[39mmode,\n\u001b[0;32m    244\u001b[0m     encoding\u001b[39m=\u001b[39m\u001b[39mself\u001b[39m\u001b[39m.\u001b[39mencoding,\n\u001b[0;32m    245\u001b[0m     errors\u001b[39m=\u001b[39m\u001b[39mself\u001b[39m\u001b[39m.\u001b[39merrors,\n\u001b[0;32m    246\u001b[0m     compression\u001b[39m=\u001b[39m\u001b[39mself\u001b[39m\u001b[39m.\u001b[39mcompression,\n\u001b[0;32m    247\u001b[0m     storage_options\u001b[39m=\u001b[39m\u001b[39mself\u001b[39m\u001b[39m.\u001b[39mstorage_options,\n\u001b[0;32m    248\u001b[0m ) \u001b[39mas\u001b[39;00m handles:\n\u001b[0;32m    249\u001b[0m \n\u001b[0;32m    250\u001b[0m     \u001b[39m# Note: self.encoding is irrelevant here\u001b[39;00m\n\u001b[0;32m    251\u001b[0m     \u001b[39mself\u001b[39m\u001b[39m.\u001b[39mwriter \u001b[39m=\u001b[39m csvlib\u001b[39m.\u001b[39mwriter(\n\u001b[0;32m    252\u001b[0m         handles\u001b[39m.\u001b[39mhandle,\n\u001b[0;32m    253\u001b[0m         lineterminator\u001b[39m=\u001b[39m\u001b[39mself\u001b[39m\u001b[39m.\u001b[39mlineterminator,\n\u001b[1;32m   (...)\u001b[0m\n\u001b[0;32m    258\u001b[0m         quotechar\u001b[39m=\u001b[39m\u001b[39mself\u001b[39m\u001b[39m.\u001b[39mquotechar,\n\u001b[0;32m    259\u001b[0m     )\n\u001b[0;32m    261\u001b[0m     \u001b[39mself\u001b[39m\u001b[39m.\u001b[39m_save()\n",
      "File \u001b[1;32mc:\\ProgramData\\anaconda3\\envs\\aws-micro-etl\\Lib\\site-packages\\pandas\\io\\common.py:713\u001b[0m, in \u001b[0;36mget_handle\u001b[1;34m(path_or_buf, mode, encoding, compression, memory_map, is_text, errors, storage_options)\u001b[0m\n\u001b[0;32m    710\u001b[0m     codecs\u001b[39m.\u001b[39mlookup_error(errors)\n\u001b[0;32m    712\u001b[0m \u001b[39m# open URLs\u001b[39;00m\n\u001b[1;32m--> 713\u001b[0m ioargs \u001b[39m=\u001b[39m _get_filepath_or_buffer(\n\u001b[0;32m    714\u001b[0m     path_or_buf,\n\u001b[0;32m    715\u001b[0m     encoding\u001b[39m=\u001b[39mencoding,\n\u001b[0;32m    716\u001b[0m     compression\u001b[39m=\u001b[39mcompression,\n\u001b[0;32m    717\u001b[0m     mode\u001b[39m=\u001b[39mmode,\n\u001b[0;32m    718\u001b[0m     storage_options\u001b[39m=\u001b[39mstorage_options,\n\u001b[0;32m    719\u001b[0m )\n\u001b[0;32m    721\u001b[0m handle \u001b[39m=\u001b[39m ioargs\u001b[39m.\u001b[39mfilepath_or_buffer\n\u001b[0;32m    722\u001b[0m handles: \u001b[39mlist\u001b[39m[BaseBuffer]\n",
      "File \u001b[1;32mc:\\ProgramData\\anaconda3\\envs\\aws-micro-etl\\Lib\\site-packages\\pandas\\io\\common.py:420\u001b[0m, in \u001b[0;36m_get_filepath_or_buffer\u001b[1;34m(filepath_or_buffer, encoding, compression, mode, storage_options)\u001b[0m\n\u001b[0;32m    418\u001b[0m             storage_options \u001b[39m=\u001b[39m \u001b[39mdict\u001b[39m(storage_options)\n\u001b[0;32m    419\u001b[0m             storage_options[\u001b[39m\"\u001b[39m\u001b[39manon\u001b[39m\u001b[39m\"\u001b[39m] \u001b[39m=\u001b[39m \u001b[39mTrue\u001b[39;00m\n\u001b[1;32m--> 420\u001b[0m         file_obj \u001b[39m=\u001b[39m fsspec\u001b[39m.\u001b[39mopen(\n\u001b[0;32m    421\u001b[0m             filepath_or_buffer, mode\u001b[39m=\u001b[39mfsspec_mode, \u001b[39m*\u001b[39m\u001b[39m*\u001b[39m(storage_options \u001b[39mor\u001b[39;00m {})\n\u001b[0;32m    422\u001b[0m         )\u001b[39m.\u001b[39mopen()\n\u001b[0;32m    424\u001b[0m     \u001b[39mreturn\u001b[39;00m IOArgs(\n\u001b[0;32m    425\u001b[0m         filepath_or_buffer\u001b[39m=\u001b[39mfile_obj,\n\u001b[0;32m    426\u001b[0m         encoding\u001b[39m=\u001b[39mencoding,\n\u001b[1;32m   (...)\u001b[0m\n\u001b[0;32m    429\u001b[0m         mode\u001b[39m=\u001b[39mfsspec_mode,\n\u001b[0;32m    430\u001b[0m     )\n\u001b[0;32m    431\u001b[0m \u001b[39melif\u001b[39;00m storage_options:\n",
      "File \u001b[1;32mc:\\ProgramData\\anaconda3\\envs\\aws-micro-etl\\Lib\\site-packages\\fsspec\\core.py:419\u001b[0m, in \u001b[0;36mopen\u001b[1;34m(urlpath, mode, compression, encoding, errors, protocol, newline, **kwargs)\u001b[0m\n\u001b[0;32m    369\u001b[0m \u001b[39mdef\u001b[39;00m \u001b[39mopen\u001b[39m(\n\u001b[0;32m    370\u001b[0m     urlpath,\n\u001b[0;32m    371\u001b[0m     mode\u001b[39m=\u001b[39m\u001b[39m\"\u001b[39m\u001b[39mrb\u001b[39m\u001b[39m\"\u001b[39m,\n\u001b[1;32m   (...)\u001b[0m\n\u001b[0;32m    377\u001b[0m     \u001b[39m*\u001b[39m\u001b[39m*\u001b[39mkwargs,\n\u001b[0;32m    378\u001b[0m ):\n\u001b[0;32m    379\u001b[0m     \u001b[39m\"\"\"Given a path or paths, return one ``OpenFile`` object.\u001b[39;00m\n\u001b[0;32m    380\u001b[0m \n\u001b[0;32m    381\u001b[0m \u001b[39m    Parameters\u001b[39;00m\n\u001b[1;32m   (...)\u001b[0m\n\u001b[0;32m    417\u001b[0m \u001b[39m    ``OpenFile`` object.\u001b[39;00m\n\u001b[0;32m    418\u001b[0m \u001b[39m    \"\"\"\u001b[39;00m\n\u001b[1;32m--> 419\u001b[0m     \u001b[39mreturn\u001b[39;00m open_files(\n\u001b[0;32m    420\u001b[0m         urlpath\u001b[39m=\u001b[39m[urlpath],\n\u001b[0;32m    421\u001b[0m         mode\u001b[39m=\u001b[39mmode,\n\u001b[0;32m    422\u001b[0m         compression\u001b[39m=\u001b[39mcompression,\n\u001b[0;32m    423\u001b[0m         encoding\u001b[39m=\u001b[39mencoding,\n\u001b[0;32m    424\u001b[0m         errors\u001b[39m=\u001b[39merrors,\n\u001b[0;32m    425\u001b[0m         protocol\u001b[39m=\u001b[39mprotocol,\n\u001b[0;32m    426\u001b[0m         newline\u001b[39m=\u001b[39mnewline,\n\u001b[0;32m    427\u001b[0m         expand\u001b[39m=\u001b[39m\u001b[39mFalse\u001b[39;00m,\n\u001b[0;32m    428\u001b[0m         \u001b[39m*\u001b[39m\u001b[39m*\u001b[39mkwargs,\n\u001b[0;32m    429\u001b[0m     )[\u001b[39m0\u001b[39m]\n",
      "File \u001b[1;32mc:\\ProgramData\\anaconda3\\envs\\aws-micro-etl\\Lib\\site-packages\\fsspec\\core.py:283\u001b[0m, in \u001b[0;36mopen_files\u001b[1;34m(urlpath, mode, compression, encoding, errors, name_function, num, protocol, newline, auto_mkdir, expand, **kwargs)\u001b[0m\n\u001b[0;32m    281\u001b[0m \u001b[39mif\u001b[39;00m \u001b[39m\"\u001b[39m\u001b[39mr\u001b[39m\u001b[39m\"\u001b[39m \u001b[39mnot\u001b[39;00m \u001b[39min\u001b[39;00m mode \u001b[39mand\u001b[39;00m auto_mkdir:\n\u001b[0;32m    282\u001b[0m     parents \u001b[39m=\u001b[39m {fs\u001b[39m.\u001b[39m_parent(path) \u001b[39mfor\u001b[39;00m path \u001b[39min\u001b[39;00m paths}\n\u001b[1;32m--> 283\u001b[0m     [fs\u001b[39m.\u001b[39mmakedirs(parent, exist_ok\u001b[39m=\u001b[39m\u001b[39mTrue\u001b[39;00m) \u001b[39mfor\u001b[39;00m parent \u001b[39min\u001b[39;00m parents]\n\u001b[0;32m    284\u001b[0m \u001b[39mreturn\u001b[39;00m OpenFiles(\n\u001b[0;32m    285\u001b[0m     [\n\u001b[0;32m    286\u001b[0m         OpenFile(\n\u001b[1;32m   (...)\u001b[0m\n\u001b[0;32m    298\u001b[0m     fs\u001b[39m=\u001b[39mfs,\n\u001b[0;32m    299\u001b[0m )\n",
      "File \u001b[1;32mc:\\ProgramData\\anaconda3\\envs\\aws-micro-etl\\Lib\\site-packages\\fsspec\\core.py:283\u001b[0m, in \u001b[0;36m<listcomp>\u001b[1;34m(.0)\u001b[0m\n\u001b[0;32m    281\u001b[0m \u001b[39mif\u001b[39;00m \u001b[39m\"\u001b[39m\u001b[39mr\u001b[39m\u001b[39m\"\u001b[39m \u001b[39mnot\u001b[39;00m \u001b[39min\u001b[39;00m mode \u001b[39mand\u001b[39;00m auto_mkdir:\n\u001b[0;32m    282\u001b[0m     parents \u001b[39m=\u001b[39m {fs\u001b[39m.\u001b[39m_parent(path) \u001b[39mfor\u001b[39;00m path \u001b[39min\u001b[39;00m paths}\n\u001b[1;32m--> 283\u001b[0m     [fs\u001b[39m.\u001b[39mmakedirs(parent, exist_ok\u001b[39m=\u001b[39m\u001b[39mTrue\u001b[39;00m) \u001b[39mfor\u001b[39;00m parent \u001b[39min\u001b[39;00m parents]\n\u001b[0;32m    284\u001b[0m \u001b[39mreturn\u001b[39;00m OpenFiles(\n\u001b[0;32m    285\u001b[0m     [\n\u001b[0;32m    286\u001b[0m         OpenFile(\n\u001b[1;32m   (...)\u001b[0m\n\u001b[0;32m    298\u001b[0m     fs\u001b[39m=\u001b[39mfs,\n\u001b[0;32m    299\u001b[0m )\n",
      "File \u001b[1;32mc:\\ProgramData\\anaconda3\\envs\\aws-micro-etl\\Lib\\site-packages\\fsspec\\asyn.py:115\u001b[0m, in \u001b[0;36msync_wrapper.<locals>.wrapper\u001b[1;34m(*args, **kwargs)\u001b[0m\n\u001b[0;32m    112\u001b[0m \u001b[39m@functools\u001b[39m\u001b[39m.\u001b[39mwraps(func)\n\u001b[0;32m    113\u001b[0m \u001b[39mdef\u001b[39;00m \u001b[39mwrapper\u001b[39m(\u001b[39m*\u001b[39margs, \u001b[39m*\u001b[39m\u001b[39m*\u001b[39mkwargs):\n\u001b[0;32m    114\u001b[0m     \u001b[39mself\u001b[39m \u001b[39m=\u001b[39m obj \u001b[39mor\u001b[39;00m args[\u001b[39m0\u001b[39m]\n\u001b[1;32m--> 115\u001b[0m     \u001b[39mreturn\u001b[39;00m sync(\u001b[39mself\u001b[39m\u001b[39m.\u001b[39mloop, func, \u001b[39m*\u001b[39margs, \u001b[39m*\u001b[39m\u001b[39m*\u001b[39mkwargs)\n",
      "File \u001b[1;32mc:\\ProgramData\\anaconda3\\envs\\aws-micro-etl\\Lib\\site-packages\\fsspec\\asyn.py:100\u001b[0m, in \u001b[0;36msync\u001b[1;34m(loop, func, timeout, *args, **kwargs)\u001b[0m\n\u001b[0;32m     98\u001b[0m     \u001b[39mraise\u001b[39;00m FSTimeoutError \u001b[39mfrom\u001b[39;00m \u001b[39mreturn_result\u001b[39;00m\n\u001b[0;32m     99\u001b[0m \u001b[39melif\u001b[39;00m \u001b[39misinstance\u001b[39m(return_result, \u001b[39mBaseException\u001b[39;00m):\n\u001b[1;32m--> 100\u001b[0m     \u001b[39mraise\u001b[39;00m return_result\n\u001b[0;32m    101\u001b[0m \u001b[39melse\u001b[39;00m:\n\u001b[0;32m    102\u001b[0m     \u001b[39mreturn\u001b[39;00m return_result\n",
      "File \u001b[1;32mc:\\ProgramData\\anaconda3\\envs\\aws-micro-etl\\Lib\\site-packages\\fsspec\\asyn.py:55\u001b[0m, in \u001b[0;36m_runner\u001b[1;34m(event, coro, result, timeout)\u001b[0m\n\u001b[0;32m     53\u001b[0m     coro \u001b[39m=\u001b[39m asyncio\u001b[39m.\u001b[39mwait_for(coro, timeout\u001b[39m=\u001b[39mtimeout)\n\u001b[0;32m     54\u001b[0m \u001b[39mtry\u001b[39;00m:\n\u001b[1;32m---> 55\u001b[0m     result[\u001b[39m0\u001b[39m] \u001b[39m=\u001b[39m \u001b[39mawait\u001b[39;00m coro\n\u001b[0;32m     56\u001b[0m \u001b[39mexcept\u001b[39;00m \u001b[39mException\u001b[39;00m \u001b[39mas\u001b[39;00m ex:\n\u001b[0;32m     57\u001b[0m     result[\u001b[39m0\u001b[39m] \u001b[39m=\u001b[39m ex\n",
      "File \u001b[1;32mc:\\ProgramData\\anaconda3\\envs\\aws-micro-etl\\Lib\\site-packages\\s3fs\\core.py:892\u001b[0m, in \u001b[0;36mS3FileSystem._makedirs\u001b[1;34m(self, path, exist_ok)\u001b[0m\n\u001b[0;32m    890\u001b[0m \u001b[39masync\u001b[39;00m \u001b[39mdef\u001b[39;00m \u001b[39m_makedirs\u001b[39m(\u001b[39mself\u001b[39m, path, exist_ok\u001b[39m=\u001b[39m\u001b[39mFalse\u001b[39;00m):\n\u001b[0;32m    891\u001b[0m     \u001b[39mtry\u001b[39;00m:\n\u001b[1;32m--> 892\u001b[0m         \u001b[39mawait\u001b[39;00m \u001b[39mself\u001b[39m\u001b[39m.\u001b[39m_mkdir(path, create_parents\u001b[39m=\u001b[39m\u001b[39mTrue\u001b[39;00m)\n\u001b[0;32m    893\u001b[0m     \u001b[39mexcept\u001b[39;00m \u001b[39mFileExistsError\u001b[39;00m:\n\u001b[0;32m    894\u001b[0m         \u001b[39mif\u001b[39;00m exist_ok:\n",
      "File \u001b[1;32mc:\\ProgramData\\anaconda3\\envs\\aws-micro-etl\\Lib\\site-packages\\s3fs\\core.py:877\u001b[0m, in \u001b[0;36mS3FileSystem._mkdir\u001b[1;34m(self, path, acl, create_parents, **kwargs)\u001b[0m\n\u001b[0;32m    873\u001b[0m \u001b[39mif\u001b[39;00m region_name:\n\u001b[0;32m    874\u001b[0m     params[\u001b[39m\"\u001b[39m\u001b[39mCreateBucketConfiguration\u001b[39m\u001b[39m\"\u001b[39m] \u001b[39m=\u001b[39m {\n\u001b[0;32m    875\u001b[0m         \u001b[39m\"\u001b[39m\u001b[39mLocationConstraint\u001b[39m\u001b[39m\"\u001b[39m: region_name\n\u001b[0;32m    876\u001b[0m     }\n\u001b[1;32m--> 877\u001b[0m \u001b[39mawait\u001b[39;00m \u001b[39mself\u001b[39m\u001b[39m.\u001b[39m_call_s3(\u001b[39m\"\u001b[39m\u001b[39mcreate_bucket\u001b[39m\u001b[39m\"\u001b[39m, \u001b[39m*\u001b[39m\u001b[39m*\u001b[39mparams)\n\u001b[0;32m    878\u001b[0m \u001b[39mself\u001b[39m\u001b[39m.\u001b[39minvalidate_cache(\u001b[39m\"\u001b[39m\u001b[39m\"\u001b[39m)\n\u001b[0;32m    879\u001b[0m \u001b[39mself\u001b[39m\u001b[39m.\u001b[39minvalidate_cache(bucket)\n",
      "File \u001b[1;32mc:\\ProgramData\\anaconda3\\envs\\aws-micro-etl\\Lib\\site-packages\\s3fs\\core.py:347\u001b[0m, in \u001b[0;36mS3FileSystem._call_s3\u001b[1;34m(self, method, *akwarglist, **kwargs)\u001b[0m\n\u001b[0;32m    345\u001b[0m logger\u001b[39m.\u001b[39mdebug(\u001b[39m\"\u001b[39m\u001b[39mCALL: \u001b[39m\u001b[39m%s\u001b[39;00m\u001b[39m - \u001b[39m\u001b[39m%s\u001b[39;00m\u001b[39m - \u001b[39m\u001b[39m%s\u001b[39;00m\u001b[39m\"\u001b[39m, method\u001b[39m.\u001b[39m\u001b[39m__name__\u001b[39m, akwarglist, kw2)\n\u001b[0;32m    346\u001b[0m additional_kwargs \u001b[39m=\u001b[39m \u001b[39mself\u001b[39m\u001b[39m.\u001b[39m_get_s3_method_kwargs(method, \u001b[39m*\u001b[39makwarglist, \u001b[39m*\u001b[39m\u001b[39m*\u001b[39mkwargs)\n\u001b[1;32m--> 347\u001b[0m \u001b[39mreturn\u001b[39;00m \u001b[39mawait\u001b[39;00m _error_wrapper(\n\u001b[0;32m    348\u001b[0m     method, kwargs\u001b[39m=\u001b[39madditional_kwargs, retries\u001b[39m=\u001b[39m\u001b[39mself\u001b[39m\u001b[39m.\u001b[39mretries\n\u001b[0;32m    349\u001b[0m )\n",
      "File \u001b[1;32mc:\\ProgramData\\anaconda3\\envs\\aws-micro-etl\\Lib\\site-packages\\s3fs\\core.py:139\u001b[0m, in \u001b[0;36m_error_wrapper\u001b[1;34m(func, args, kwargs, retries)\u001b[0m\n\u001b[0;32m    137\u001b[0m         err \u001b[39m=\u001b[39m e\n\u001b[0;32m    138\u001b[0m err \u001b[39m=\u001b[39m translate_boto_error(err)\n\u001b[1;32m--> 139\u001b[0m \u001b[39mraise\u001b[39;00m err\n",
      "\u001b[1;31mPermissionError\u001b[0m: Access Denied"
     ]
    }
   ],
   "source": [
    "df.to_csv('s3://test/test_flat_price.csv')"
   ]
  },
  {
   "cell_type": "code",
   "execution_count": null,
   "metadata": {},
   "outputs": [],
   "source": []
  }
 ],
 "metadata": {
  "kernelspec": {
   "display_name": "Python 3",
   "language": "python",
   "name": "python3"
  },
  "language_info": {
   "codemirror_mode": {
    "name": "ipython",
    "version": 3
   },
   "file_extension": ".py",
   "mimetype": "text/x-python",
   "name": "python",
   "nbconvert_exporter": "python",
   "pygments_lexer": "ipython3",
   "version": "3.11.2"
  }
 },
 "nbformat": 4,
 "nbformat_minor": 4
}
