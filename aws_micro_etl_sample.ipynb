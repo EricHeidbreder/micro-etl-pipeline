{
 "cells": [
  {
   "cell_type": "markdown",
   "metadata": {},
   "source": [
    "# AWS micro ETL sample\n",
    "This sample uses publicly available data from the [HM land registry](https://www.gov.uk/government/organisations/land-registry) containing average price by property type series.  \n",
    "You can customise the file with your own data source."
   ]
  },
  {
   "cell_type": "markdown",
   "metadata": {},
   "source": [
    "## Import required libraries"
   ]
  },
  {
   "cell_type": "code",
   "execution_count": 1,
   "metadata": {},
   "outputs": [],
   "source": [
    "import pandas as pd\n",
    "import requests\n",
    "import io\n",
    "import matplotlib.pyplot as plt"
   ]
  },
  {
   "cell_type": "markdown",
   "metadata": {},
   "source": [
    "## Define URL to query"
   ]
  },
  {
   "cell_type": "code",
   "execution_count": 18,
   "metadata": {},
   "outputs": [],
   "source": [
    "URL = 'http://publicdata.landregistry.gov.uk/market-trend-data/house-price-index-data/Average-prices-Property-Type-2019-04.csv'"
   ]
  },
  {
   "cell_type": "markdown",
   "metadata": {},
   "source": [
    "## Print response header\n",
    "You can use the following code to print the `Content-Length` header which indicates the size of the entity body in the message, in bytes.\n",
    "In addition, you can see weather the server is supports partial request: `'Accept-Ranges': 'bytes'` or `none`"
   ]
  },
  {
   "cell_type": "code",
   "execution_count": 3,
   "metadata": {},
   "outputs": [
    {
     "name": "stdout",
     "output_type": "stream",
     "text": [
      "Total bytes: 27137098\n",
      "Accept ranges: bytes\n"
     ]
    }
   ],
   "source": [
    "head = requests.head(URL)\n",
    "print('Total bytes:', head.headers['Content-Length'])\n",
    "print('Accept ranges:', head.headers['Accept-Ranges'])"
   ]
  },
  {
   "cell_type": "markdown",
   "metadata": {},
   "source": [
    "## Partial requests\n",
    "If the file is too big, the micro ETL process is more likely to exaust the resources or go in timeout.  \n",
    "For that reason, if the server accept partial request you can use the following function defining a `start` and `end` range of bytes you would like to retrieve.\n",
    "\n",
    "Example of accepted value from the below function:  \n",
    "- `range_header(0, 499)` which results in `Range: bytes=0-499` to fetch the first 499 bytes\n",
    "- `range_header(100, 300)` which results in `Range: bytes=100-300` to fetch from the 100 to the 300 bytes\n",
    "- `range_header(-500)` which results in `Range: bytes=-500` to fetch the last 500 bytes"
   ]
  },
  {
   "cell_type": "code",
   "execution_count": 4,
   "metadata": {},
   "outputs": [],
   "source": [
    "def range_header(start=0, end=0):    \n",
    "    if start < 0 and end == 0:\n",
    "        byte_range = 'bytes=%s' % (start)\n",
    "    else:        \n",
    "        byte_range = 'bytes=%s-%s' % (start, end)\n",
    "\n",
    "    return {'Range': byte_range}"
   ]
  },
  {
   "cell_type": "markdown",
   "metadata": {},
   "source": [
    "## If you want to get part of the file\n",
    "If you want to get part of the file, use a statement similar to the one below."
   ]
  },
  {
   "cell_type": "code",
   "execution_count": 6,
   "metadata": {},
   "outputs": [
    {
     "data": {
      "text/plain": [
       "867236"
      ]
     },
     "execution_count": 6,
     "metadata": {},
     "output_type": "execute_result"
    }
   ],
   "source": [
    "# Fetches the first 10000000 bytes\n",
    "res = requests.get(URL, headers=range_header(0, 10000000), allow_redirects=True)\n",
    "\n",
    "# Import the data in a pandas DataFrame from the IO stream (without the need of creating a file)\n",
    "df = pd.read_csv(io.StringIO(res.content.decode('utf-8')), engine='python', error_bad_lines=False)\n",
    "\n",
    "# Number of elements in the array.\n",
    "df.size"
   ]
  },
  {
   "cell_type": "markdown",
   "metadata": {},
   "source": [
    "__NOTE__ When you deal with partial file, it is very likely that the last element in the list contains empty values as `NaN`\n",
    "You might want to remove the last element either with: `df.drop(df.tail(1).index,inplace=True)` or using the `skipfooter=1` parameter inside the `pd.read_csv` call"
   ]
  },
  {
   "cell_type": "markdown",
   "metadata": {},
   "source": [
    "## If you want to get the full file\n",
    "Pandas is a great library and allows you to create a DataFrame directly from a URL."
   ]
  },
  {
   "cell_type": "code",
   "execution_count": 5,
   "metadata": {},
   "outputs": [
    {
     "data": {
      "text/plain": [
       "2311312"
      ]
     },
     "execution_count": 5,
     "metadata": {},
     "output_type": "execute_result"
    }
   ],
   "source": [
    "df = pd.read_csv(URL)\n",
    "\n",
    "# Number of elements in the array.\n",
    "df.size"
   ]
  },
  {
   "cell_type": "code",
   "execution_count": 6,
   "metadata": {},
   "outputs": [
    {
     "data": {
      "text/plain": [
       "Index(['Date', 'Region_Name', 'Area_Code', 'Detached_Average_Price',\n",
       "       'Detached_Index', 'Detached_Monthly_Change', 'Detached_Annual_Change',\n",
       "       'Semi_Detached_Average_Price', 'Semi_Detached_Index',\n",
       "       'Semi_Detached_Monthly_Change', 'Semi_Detached_Annual_Change',\n",
       "       'Terraced_Average_Price', 'Terraced_Index', 'Terraced_Monthly_Change',\n",
       "       'Terraced_Annual_Change', 'Flat_Average_Price', 'Flat_Index',\n",
       "       'Flat_Monthly_Change', 'Flat_Annual_Change'],\n",
       "      dtype='object')"
      ]
     },
     "execution_count": 6,
     "metadata": {},
     "output_type": "execute_result"
    }
   ],
   "source": [
    "#DataFrame headers\n",
    "df.columns"
   ]
  },
  {
   "cell_type": "markdown",
   "metadata": {},
   "source": [
    "## What if my source is a JSON file\n",
    "As you can imagine pandas supports different type of sources JSON included.\n",
    "\n",
    "`pd.read_json('file_or_url.json')`\n",
    "\n",
    "[See the official documentation for more info](https://pandas.pydata.org/pandas-docs/stable/reference/api/pandas.read_json.html)"
   ]
  },
  {
   "cell_type": "markdown",
   "metadata": {},
   "source": [
    "## What if my source is an Excel file\n",
    "No problem at all pandas supports xls, xlsx, xlsm, xlsb, and odf file extensions read from a local filesystem or URL.\n",
    "\n",
    "`pd.read_excel('file_or_url.xlsx')`\n",
    "\n",
    "[See the official documentation for more info](https://pandas.pydata.org/pandas-docs/stable/reference/api/pandas.read_excel.html)"
   ]
  },
  {
   "cell_type": "markdown",
   "metadata": {},
   "source": [
    "## Inspect the data"
   ]
  },
  {
   "cell_type": "code",
   "execution_count": 7,
   "metadata": {},
   "outputs": [
    {
     "data": {
      "text/plain": [
       "Index(['Date', 'Region_Name', 'Area_Code', 'Detached_Average_Price',\n",
       "       'Detached_Index', 'Detached_Monthly_Change', 'Detached_Annual_Change',\n",
       "       'Semi_Detached_Average_Price', 'Semi_Detached_Index',\n",
       "       'Semi_Detached_Monthly_Change', 'Semi_Detached_Annual_Change',\n",
       "       'Terraced_Average_Price', 'Terraced_Index', 'Terraced_Monthly_Change',\n",
       "       'Terraced_Annual_Change', 'Flat_Average_Price', 'Flat_Index',\n",
       "       'Flat_Monthly_Change', 'Flat_Annual_Change'],\n",
       "      dtype='object')"
      ]
     },
     "execution_count": 7,
     "metadata": {},
     "output_type": "execute_result"
    }
   ],
   "source": [
    "# Columns in the array\n",
    "df.columns"
   ]
  },
  {
   "cell_type": "code",
   "execution_count": 8,
   "metadata": {},
   "outputs": [
    {
     "data": {
      "text/html": [
       "<div>\n",
       "<style scoped>\n",
       "    .dataframe tbody tr th:only-of-type {\n",
       "        vertical-align: middle;\n",
       "    }\n",
       "\n",
       "    .dataframe tbody tr th {\n",
       "        vertical-align: top;\n",
       "    }\n",
       "\n",
       "    .dataframe thead th {\n",
       "        text-align: right;\n",
       "    }\n",
       "</style>\n",
       "<table border=\"1\" class=\"dataframe\">\n",
       "  <thead>\n",
       "    <tr style=\"text-align: right;\">\n",
       "      <th></th>\n",
       "      <th>Date</th>\n",
       "      <th>Region_Name</th>\n",
       "      <th>Area_Code</th>\n",
       "      <th>Detached_Average_Price</th>\n",
       "      <th>Detached_Index</th>\n",
       "      <th>Detached_Monthly_Change</th>\n",
       "      <th>Detached_Annual_Change</th>\n",
       "      <th>Semi_Detached_Average_Price</th>\n",
       "      <th>Semi_Detached_Index</th>\n",
       "      <th>Semi_Detached_Monthly_Change</th>\n",
       "      <th>Semi_Detached_Annual_Change</th>\n",
       "      <th>Terraced_Average_Price</th>\n",
       "      <th>Terraced_Index</th>\n",
       "      <th>Terraced_Monthly_Change</th>\n",
       "      <th>Terraced_Annual_Change</th>\n",
       "      <th>Flat_Average_Price</th>\n",
       "      <th>Flat_Index</th>\n",
       "      <th>Flat_Monthly_Change</th>\n",
       "      <th>Flat_Annual_Change</th>\n",
       "    </tr>\n",
       "  </thead>\n",
       "  <tbody>\n",
       "    <tr>\n",
       "      <th>121647</th>\n",
       "      <td>2019-04-01</td>\n",
       "      <td>United Kingdom</td>\n",
       "      <td>K02000001</td>\n",
       "      <td>349793.3352</td>\n",
       "      <td>121.569447</td>\n",
       "      <td>1.016012</td>\n",
       "      <td>2.666747</td>\n",
       "      <td>216938.0257</td>\n",
       "      <td>121.343178</td>\n",
       "      <td>0.220195</td>\n",
       "      <td>1.982323</td>\n",
       "      <td>186586.6011</td>\n",
       "      <td>120.794447</td>\n",
       "      <td>1.497215</td>\n",
       "      <td>1.856394</td>\n",
       "      <td>199018.4518</td>\n",
       "      <td>115.627829</td>\n",
       "      <td>0.060925</td>\n",
       "      <td>-1.569053</td>\n",
       "    </tr>\n",
       "  </tbody>\n",
       "</table>\n",
       "</div>"
      ],
      "text/plain": [
       "              Date     Region_Name  Area_Code  Detached_Average_Price  \\\n",
       "121647  2019-04-01  United Kingdom  K02000001             349793.3352   \n",
       "\n",
       "        Detached_Index  Detached_Monthly_Change  Detached_Annual_Change  \\\n",
       "121647      121.569447                 1.016012                2.666747   \n",
       "\n",
       "        Semi_Detached_Average_Price  Semi_Detached_Index  \\\n",
       "121647                  216938.0257           121.343178   \n",
       "\n",
       "        Semi_Detached_Monthly_Change  Semi_Detached_Annual_Change  \\\n",
       "121647                      0.220195                     1.982323   \n",
       "\n",
       "        Terraced_Average_Price  Terraced_Index  Terraced_Monthly_Change  \\\n",
       "121647             186586.6011      120.794447                 1.497215   \n",
       "\n",
       "        Terraced_Annual_Change  Flat_Average_Price  Flat_Index  \\\n",
       "121647                1.856394         199018.4518  115.627829   \n",
       "\n",
       "        Flat_Monthly_Change  Flat_Annual_Change  \n",
       "121647             0.060925           -1.569053  "
      ]
     },
     "execution_count": 8,
     "metadata": {},
     "output_type": "execute_result"
    }
   ],
   "source": [
    "# Last element\n",
    "df.tail(1) "
   ]
  },
  {
   "cell_type": "code",
   "execution_count": 11,
   "metadata": {},
   "outputs": [
    {
     "data": {
      "text/html": [
       "<div>\n",
       "<style scoped>\n",
       "    .dataframe tbody tr th:only-of-type {\n",
       "        vertical-align: middle;\n",
       "    }\n",
       "\n",
       "    .dataframe tbody tr th {\n",
       "        vertical-align: top;\n",
       "    }\n",
       "\n",
       "    .dataframe thead th {\n",
       "        text-align: right;\n",
       "    }\n",
       "</style>\n",
       "<table border=\"1\" class=\"dataframe\">\n",
       "  <thead>\n",
       "    <tr style=\"text-align: right;\">\n",
       "      <th></th>\n",
       "      <th>Date</th>\n",
       "      <th>Region_Name</th>\n",
       "      <th>Area_Code</th>\n",
       "      <th>Detached_Average_Price</th>\n",
       "      <th>Detached_Index</th>\n",
       "      <th>Detached_Monthly_Change</th>\n",
       "      <th>Detached_Annual_Change</th>\n",
       "      <th>Semi_Detached_Average_Price</th>\n",
       "      <th>Semi_Detached_Index</th>\n",
       "      <th>Semi_Detached_Monthly_Change</th>\n",
       "      <th>Semi_Detached_Annual_Change</th>\n",
       "      <th>Terraced_Average_Price</th>\n",
       "      <th>Terraced_Index</th>\n",
       "      <th>Terraced_Monthly_Change</th>\n",
       "      <th>Terraced_Annual_Change</th>\n",
       "      <th>Flat_Average_Price</th>\n",
       "      <th>Flat_Index</th>\n",
       "      <th>Flat_Monthly_Change</th>\n",
       "      <th>Flat_Annual_Change</th>\n",
       "    </tr>\n",
       "  </thead>\n",
       "  <tbody>\n",
       "    <tr>\n",
       "      <th>0</th>\n",
       "      <td>1995-01-01</td>\n",
       "      <td>England</td>\n",
       "      <td>E92000001</td>\n",
       "      <td>86314.15895</td>\n",
       "      <td>28.257874</td>\n",
       "      <td>NaN</td>\n",
       "      <td>NaN</td>\n",
       "      <td>51533.22543</td>\n",
       "      <td>27.436474</td>\n",
       "      <td>NaN</td>\n",
       "      <td>NaN</td>\n",
       "      <td>41489.82431</td>\n",
       "      <td>25.279664</td>\n",
       "      <td>NaN</td>\n",
       "      <td>NaN</td>\n",
       "      <td>45218.54082</td>\n",
       "      <td>23.762969</td>\n",
       "      <td>NaN</td>\n",
       "      <td>NaN</td>\n",
       "    </tr>\n",
       "  </tbody>\n",
       "</table>\n",
       "</div>"
      ],
      "text/plain": [
       "         Date Region_Name  Area_Code  Detached_Average_Price  Detached_Index  \\\n",
       "0  1995-01-01     England  E92000001             86314.15895       28.257874   \n",
       "\n",
       "   Detached_Monthly_Change  Detached_Annual_Change  \\\n",
       "0                      NaN                     NaN   \n",
       "\n",
       "   Semi_Detached_Average_Price  Semi_Detached_Index  \\\n",
       "0                  51533.22543            27.436474   \n",
       "\n",
       "   Semi_Detached_Monthly_Change  Semi_Detached_Annual_Change  \\\n",
       "0                           NaN                          NaN   \n",
       "\n",
       "   Terraced_Average_Price  Terraced_Index  Terraced_Monthly_Change  \\\n",
       "0             41489.82431       25.279664                      NaN   \n",
       "\n",
       "   Terraced_Annual_Change  Flat_Average_Price  Flat_Index  \\\n",
       "0                     NaN         45218.54082   23.762969   \n",
       "\n",
       "   Flat_Monthly_Change  Flat_Annual_Change  \n",
       "0                  NaN                 NaN  "
      ]
     },
     "execution_count": 11,
     "metadata": {},
     "output_type": "execute_result"
    }
   ],
   "source": [
    "# First element\n",
    "df.head(1)"
   ]
  },
  {
   "cell_type": "code",
   "execution_count": 12,
   "metadata": {
    "scrolled": true
   },
   "outputs": [
    {
     "data": {
      "text/html": [
       "<div>\n",
       "<style scoped>\n",
       "    .dataframe tbody tr th:only-of-type {\n",
       "        vertical-align: middle;\n",
       "    }\n",
       "\n",
       "    .dataframe tbody tr th {\n",
       "        vertical-align: top;\n",
       "    }\n",
       "\n",
       "    .dataframe thead th {\n",
       "        text-align: right;\n",
       "    }\n",
       "</style>\n",
       "<table border=\"1\" class=\"dataframe\">\n",
       "  <thead>\n",
       "    <tr style=\"text-align: right;\">\n",
       "      <th></th>\n",
       "      <th>Date</th>\n",
       "      <th>Region_Name</th>\n",
       "      <th>Area_Code</th>\n",
       "      <th>Detached_Average_Price</th>\n",
       "      <th>Detached_Index</th>\n",
       "      <th>Detached_Monthly_Change</th>\n",
       "      <th>Detached_Annual_Change</th>\n",
       "      <th>Semi_Detached_Average_Price</th>\n",
       "      <th>Semi_Detached_Index</th>\n",
       "      <th>Semi_Detached_Monthly_Change</th>\n",
       "      <th>Semi_Detached_Annual_Change</th>\n",
       "      <th>Terraced_Average_Price</th>\n",
       "      <th>Terraced_Index</th>\n",
       "      <th>Terraced_Monthly_Change</th>\n",
       "      <th>Terraced_Annual_Change</th>\n",
       "      <th>Flat_Average_Price</th>\n",
       "      <th>Flat_Index</th>\n",
       "      <th>Flat_Monthly_Change</th>\n",
       "      <th>Flat_Annual_Change</th>\n",
       "    </tr>\n",
       "  </thead>\n",
       "  <tbody>\n",
       "    <tr>\n",
       "      <th>42553</th>\n",
       "      <td>2004-01-01</td>\n",
       "      <td>Scotland</td>\n",
       "      <td>S92000003</td>\n",
       "      <td>144192.8664</td>\n",
       "      <td>62.044837</td>\n",
       "      <td>NaN</td>\n",
       "      <td>NaN</td>\n",
       "      <td>82319.95238</td>\n",
       "      <td>58.637191</td>\n",
       "      <td>NaN</td>\n",
       "      <td>NaN</td>\n",
       "      <td>62204.98712</td>\n",
       "      <td>55.210862</td>\n",
       "      <td>NaN</td>\n",
       "      <td>NaN</td>\n",
       "      <td>60706.10495</td>\n",
       "      <td>62.490360</td>\n",
       "      <td>NaN</td>\n",
       "      <td>NaN</td>\n",
       "    </tr>\n",
       "    <tr>\n",
       "      <th>42981</th>\n",
       "      <td>2004-02-01</td>\n",
       "      <td>Scotland</td>\n",
       "      <td>S92000003</td>\n",
       "      <td>135808.1112</td>\n",
       "      <td>58.436955</td>\n",
       "      <td>-5.814958</td>\n",
       "      <td>NaN</td>\n",
       "      <td>80406.76281</td>\n",
       "      <td>57.274410</td>\n",
       "      <td>-2.324090</td>\n",
       "      <td>NaN</td>\n",
       "      <td>61527.07156</td>\n",
       "      <td>54.609169</td>\n",
       "      <td>-1.089809</td>\n",
       "      <td>NaN</td>\n",
       "      <td>61568.85927</td>\n",
       "      <td>63.378472</td>\n",
       "      <td>1.421199</td>\n",
       "      <td>NaN</td>\n",
       "    </tr>\n",
       "    <tr>\n",
       "      <th>43410</th>\n",
       "      <td>2004-03-01</td>\n",
       "      <td>Scotland</td>\n",
       "      <td>S92000003</td>\n",
       "      <td>142270.4808</td>\n",
       "      <td>61.217652</td>\n",
       "      <td>4.758456</td>\n",
       "      <td>NaN</td>\n",
       "      <td>84169.98869</td>\n",
       "      <td>59.954987</td>\n",
       "      <td>4.680236</td>\n",
       "      <td>NaN</td>\n",
       "      <td>64646.04179</td>\n",
       "      <td>57.377453</td>\n",
       "      <td>5.069265</td>\n",
       "      <td>NaN</td>\n",
       "      <td>62769.97960</td>\n",
       "      <td>64.614895</td>\n",
       "      <td>1.950857</td>\n",
       "      <td>NaN</td>\n",
       "    </tr>\n",
       "  </tbody>\n",
       "</table>\n",
       "</div>"
      ],
      "text/plain": [
       "             Date Region_Name  Area_Code  Detached_Average_Price  \\\n",
       "42553  2004-01-01    Scotland  S92000003             144192.8664   \n",
       "42981  2004-02-01    Scotland  S92000003             135808.1112   \n",
       "43410  2004-03-01    Scotland  S92000003             142270.4808   \n",
       "\n",
       "       Detached_Index  Detached_Monthly_Change  Detached_Annual_Change  \\\n",
       "42553       62.044837                      NaN                     NaN   \n",
       "42981       58.436955                -5.814958                     NaN   \n",
       "43410       61.217652                 4.758456                     NaN   \n",
       "\n",
       "       Semi_Detached_Average_Price  Semi_Detached_Index  \\\n",
       "42553                  82319.95238            58.637191   \n",
       "42981                  80406.76281            57.274410   \n",
       "43410                  84169.98869            59.954987   \n",
       "\n",
       "       Semi_Detached_Monthly_Change  Semi_Detached_Annual_Change  \\\n",
       "42553                           NaN                          NaN   \n",
       "42981                     -2.324090                          NaN   \n",
       "43410                      4.680236                          NaN   \n",
       "\n",
       "       Terraced_Average_Price  Terraced_Index  Terraced_Monthly_Change  \\\n",
       "42553             62204.98712       55.210862                      NaN   \n",
       "42981             61527.07156       54.609169                -1.089809   \n",
       "43410             64646.04179       57.377453                 5.069265   \n",
       "\n",
       "       Terraced_Annual_Change  Flat_Average_Price  Flat_Index  \\\n",
       "42553                     NaN         60706.10495   62.490360   \n",
       "42981                     NaN         61568.85927   63.378472   \n",
       "43410                     NaN         62769.97960   64.614895   \n",
       "\n",
       "       Flat_Monthly_Change  Flat_Annual_Change  \n",
       "42553                  NaN                 NaN  \n",
       "42981             1.421199                 NaN  \n",
       "43410             1.950857                 NaN  "
      ]
     },
     "execution_count": 12,
     "metadata": {},
     "output_type": "execute_result"
    }
   ],
   "source": [
    "# Show only the first 3 row for Scotland\n",
    "df[df['Region_Name'] == 'Scotland'].head(3)"
   ]
  },
  {
   "cell_type": "code",
   "execution_count": 13,
   "metadata": {},
   "outputs": [
    {
     "data": {
      "image/png": "[encoded data removed]",
      "text/plain": [
       "<Figure size 432x288 with 1 Axes>"
      ]
     },
     "metadata": {
      "needs_background": "light"
     },
     "output_type": "display_data"
    }
   ],
   "source": [
    "# Plot the flat average price\n",
    "df.plot('Date',y=['Flat_Average_Price'])\n",
    "plt.show()"
   ]
  },
  {
   "cell_type": "markdown",
   "metadata": {},
   "source": [
    "## Data manipulation\n",
    "Let's say we only want to have the `Flat_Average_Price` from 2010 to 2020"
   ]
  },
  {
   "cell_type": "markdown",
   "metadata": {},
   "source": [
    "Sometimes you need to convert the Date column in datetime64 dtype so you can use dates more effectively, this can be done with statement similar to this: \n",
    "`df['Date'] = pd.to_datetime(df['Date'], format=\"%Y-%m-%d\")`"
   ]
  },
  {
   "cell_type": "code",
   "execution_count": 15,
   "metadata": {},
   "outputs": [
    {
     "data": {
      "text/plain": [
       "98040"
      ]
     },
     "execution_count": 15,
     "metadata": {},
     "output_type": "execute_result"
    }
   ],
   "source": [
    "# Finally we can only grab the 2018 rows where region name is England\n",
    "start_date = '2018-01-01'\n",
    "end_date = '2018-12-31'\n",
    "search = (df['Date'] >= start_date) & (df['Date'] <= end_date) & (df['Region_Name'] == 'England')\n",
    "\n",
    "df[search].size"
   ]
  },
  {
   "cell_type": "code",
   "execution_count": 16,
   "metadata": {},
   "outputs": [
    {
     "data": {
      "image/png": "[encoded data removed]",
      "text/plain": [
       "<Figure size 432x288 with 1 Axes>"
      ]
     },
     "metadata": {
      "needs_background": "light"
     },
     "output_type": "display_data"
    }
   ],
   "source": [
    "# Let's plot it again\n",
    "df[search].plot('Date',y=['Flat_Average_Price'])\n",
    "plt.show()"
   ]
  },
  {
   "cell_type": "markdown",
   "metadata": {},
   "source": [
    "## Saving on S3\n",
    "The beauty of panda is that can automatically save the DataFrame as csv file in an S3 bucket with the following statement."
   ]
  },
  {
   "cell_type": "code",
   "execution_count": 17,
   "metadata": {},
   "outputs": [
    {
     "ename": "PermissionError",
     "evalue": "Access Denied",
     "output_type": "error",
     "traceback": [
      "\u001b[0;31m---------------------------------------------------------------------------\u001b[0m",
      "\u001b[0;31mClientError\u001b[0m                               Traceback (most recent call last)",
      "\u001b[0;32m~/miniconda3/envs/aws-micro-etl/lib/python3.8/site-packages/s3fs/core.py\u001b[0m in \u001b[0;36m_initiate_upload\u001b[0;34m(self)\u001b[0m\n\u001b[1;32m   1139\u001b[0m         \u001b[0;32mtry\u001b[0m\u001b[0;34m:\u001b[0m\u001b[0;34m\u001b[0m\u001b[0;34m\u001b[0m\u001b[0m\n\u001b[0;32m-> 1140\u001b[0;31m             self.mpu = self._call_s3(\n\u001b[0m\u001b[1;32m   1141\u001b[0m                 \u001b[0mself\u001b[0m\u001b[0;34m.\u001b[0m\u001b[0mfs\u001b[0m\u001b[0;34m.\u001b[0m\u001b[0ms3\u001b[0m\u001b[0;34m.\u001b[0m\u001b[0mcreate_multipart_upload\u001b[0m\u001b[0;34m,\u001b[0m\u001b[0;34m\u001b[0m\u001b[0;34m\u001b[0m\u001b[0m\n",
      "\u001b[0;32m~/miniconda3/envs/aws-micro-etl/lib/python3.8/site-packages/s3fs/core.py\u001b[0m in \u001b[0;36m_call_s3\u001b[0;34m(self, method, *kwarglist, **kwargs)\u001b[0m\n\u001b[1;32m   1129\u001b[0m     \u001b[0;32mdef\u001b[0m \u001b[0m_call_s3\u001b[0m\u001b[0;34m(\u001b[0m\u001b[0mself\u001b[0m\u001b[0;34m,\u001b[0m \u001b[0mmethod\u001b[0m\u001b[0;34m,\u001b[0m \u001b[0;34m*\u001b[0m\u001b[0mkwarglist\u001b[0m\u001b[0;34m,\u001b[0m \u001b[0;34m**\u001b[0m\u001b[0mkwargs\u001b[0m\u001b[0;34m)\u001b[0m\u001b[0;34m:\u001b[0m\u001b[0;34m\u001b[0m\u001b[0;34m\u001b[0m\u001b[0m\n\u001b[0;32m-> 1130\u001b[0;31m         return self.fs._call_s3(method, self.s3_additional_kwargs, *kwarglist,\n\u001b[0m\u001b[1;32m   1131\u001b[0m                                 **kwargs)\n",
      "\u001b[0;32m~/miniconda3/envs/aws-micro-etl/lib/python3.8/site-packages/s3fs/core.py\u001b[0m in \u001b[0;36m_call_s3\u001b[0;34m(self, method, *akwarglist, **kwargs)\u001b[0m\n\u001b[1;32m    199\u001b[0m                                                        **kwargs)\n\u001b[0;32m--> 200\u001b[0;31m         \u001b[0;32mreturn\u001b[0m \u001b[0mmethod\u001b[0m\u001b[0;34m(\u001b[0m\u001b[0;34m**\u001b[0m\u001b[0madditional_kwargs\u001b[0m\u001b[0;34m)\u001b[0m\u001b[0;34m\u001b[0m\u001b[0;34m\u001b[0m\u001b[0m\n\u001b[0m\u001b[1;32m    201\u001b[0m \u001b[0;34m\u001b[0m\u001b[0m\n",
      "\u001b[0;32m~/miniconda3/envs/aws-micro-etl/lib/python3.8/site-packages/botocore/client.py\u001b[0m in \u001b[0;36m_api_call\u001b[0;34m(self, *args, **kwargs)\u001b[0m\n\u001b[1;32m    315\u001b[0m             \u001b[0;31m# The \"self\" in this scope is referring to the BaseClient.\u001b[0m\u001b[0;34m\u001b[0m\u001b[0;34m\u001b[0m\u001b[0;34m\u001b[0m\u001b[0m\n\u001b[0;32m--> 316\u001b[0;31m             \u001b[0;32mreturn\u001b[0m \u001b[0mself\u001b[0m\u001b[0;34m.\u001b[0m\u001b[0m_make_api_call\u001b[0m\u001b[0;34m(\u001b[0m\u001b[0moperation_name\u001b[0m\u001b[0;34m,\u001b[0m \u001b[0mkwargs\u001b[0m\u001b[0;34m)\u001b[0m\u001b[0;34m\u001b[0m\u001b[0;34m\u001b[0m\u001b[0m\n\u001b[0m\u001b[1;32m    317\u001b[0m \u001b[0;34m\u001b[0m\u001b[0m\n",
      "\u001b[0;32m~/miniconda3/envs/aws-micro-etl/lib/python3.8/site-packages/botocore/client.py\u001b[0m in \u001b[0;36m_make_api_call\u001b[0;34m(self, operation_name, api_params)\u001b[0m\n\u001b[1;32m    634\u001b[0m             \u001b[0merror_class\u001b[0m \u001b[0;34m=\u001b[0m \u001b[0mself\u001b[0m\u001b[0;34m.\u001b[0m\u001b[0mexceptions\u001b[0m\u001b[0;34m.\u001b[0m\u001b[0mfrom_code\u001b[0m\u001b[0;34m(\u001b[0m\u001b[0merror_code\u001b[0m\u001b[0;34m)\u001b[0m\u001b[0;34m\u001b[0m\u001b[0;34m\u001b[0m\u001b[0m\n\u001b[0;32m--> 635\u001b[0;31m             \u001b[0;32mraise\u001b[0m \u001b[0merror_class\u001b[0m\u001b[0;34m(\u001b[0m\u001b[0mparsed_response\u001b[0m\u001b[0;34m,\u001b[0m \u001b[0moperation_name\u001b[0m\u001b[0;34m)\u001b[0m\u001b[0;34m\u001b[0m\u001b[0;34m\u001b[0m\u001b[0m\n\u001b[0m\u001b[1;32m    636\u001b[0m         \u001b[0;32melse\u001b[0m\u001b[0;34m:\u001b[0m\u001b[0;34m\u001b[0m\u001b[0;34m\u001b[0m\u001b[0m\n",
      "\u001b[0;31mClientError\u001b[0m: An error occurred (AccessDenied) when calling the CreateMultipartUpload operation: Access Denied",
      "\nDuring handling of the above exception, another exception occurred:\n",
      "\u001b[0;31mPermissionError\u001b[0m                           Traceback (most recent call last)",
      "\u001b[0;32m<ipython-input-17-7c09ed39de96>\u001b[0m in \u001b[0;36m<module>\u001b[0;34m\u001b[0m\n\u001b[0;32m----> 1\u001b[0;31m \u001b[0mdf\u001b[0m\u001b[0;34m.\u001b[0m\u001b[0mto_csv\u001b[0m\u001b[0;34m(\u001b[0m\u001b[0;34m's3://YOUR_BUCKET_NAME/YOUR_FILENAME.csv'\u001b[0m\u001b[0;34m)\u001b[0m\u001b[0;34m\u001b[0m\u001b[0;34m\u001b[0m\u001b[0m\n\u001b[0m",
      "\u001b[0;32m~/miniconda3/envs/aws-micro-etl/lib/python3.8/site-packages/pandas/core/generic.py\u001b[0m in \u001b[0;36mto_csv\u001b[0;34m(self, path_or_buf, sep, na_rep, float_format, columns, header, index, index_label, mode, encoding, compression, quoting, quotechar, line_terminator, chunksize, date_format, doublequote, escapechar, decimal)\u001b[0m\n\u001b[1;32m   3202\u001b[0m             \u001b[0mdecimal\u001b[0m\u001b[0;34m=\u001b[0m\u001b[0mdecimal\u001b[0m\u001b[0;34m,\u001b[0m\u001b[0;34m\u001b[0m\u001b[0;34m\u001b[0m\u001b[0m\n\u001b[1;32m   3203\u001b[0m         )\n\u001b[0;32m-> 3204\u001b[0;31m         \u001b[0mformatter\u001b[0m\u001b[0;34m.\u001b[0m\u001b[0msave\u001b[0m\u001b[0;34m(\u001b[0m\u001b[0;34m)\u001b[0m\u001b[0;34m\u001b[0m\u001b[0;34m\u001b[0m\u001b[0m\n\u001b[0m\u001b[1;32m   3205\u001b[0m \u001b[0;34m\u001b[0m\u001b[0m\n\u001b[1;32m   3206\u001b[0m         \u001b[0;32mif\u001b[0m \u001b[0mpath_or_buf\u001b[0m \u001b[0;32mis\u001b[0m \u001b[0;32mNone\u001b[0m\u001b[0;34m:\u001b[0m\u001b[0;34m\u001b[0m\u001b[0;34m\u001b[0m\u001b[0m\n",
      "\u001b[0;32m~/miniconda3/envs/aws-micro-etl/lib/python3.8/site-packages/pandas/io/formats/csvs.py\u001b[0m in \u001b[0;36msave\u001b[0;34m(self)\u001b[0m\n\u001b[1;32m    202\u001b[0m             )\n\u001b[1;32m    203\u001b[0m \u001b[0;34m\u001b[0m\u001b[0m\n\u001b[0;32m--> 204\u001b[0;31m             \u001b[0mself\u001b[0m\u001b[0;34m.\u001b[0m\u001b[0m_save\u001b[0m\u001b[0;34m(\u001b[0m\u001b[0;34m)\u001b[0m\u001b[0;34m\u001b[0m\u001b[0;34m\u001b[0m\u001b[0m\n\u001b[0m\u001b[1;32m    205\u001b[0m \u001b[0;34m\u001b[0m\u001b[0m\n\u001b[1;32m    206\u001b[0m         \u001b[0;32mfinally\u001b[0m\u001b[0;34m:\u001b[0m\u001b[0;34m\u001b[0m\u001b[0;34m\u001b[0m\u001b[0m\n",
      "\u001b[0;32m~/miniconda3/envs/aws-micro-etl/lib/python3.8/site-packages/pandas/io/formats/csvs.py\u001b[0m in \u001b[0;36m_save\u001b[0;34m(self)\u001b[0m\n\u001b[1;32m    321\u001b[0m                 \u001b[0;32mbreak\u001b[0m\u001b[0;34m\u001b[0m\u001b[0;34m\u001b[0m\u001b[0m\n\u001b[1;32m    322\u001b[0m \u001b[0;34m\u001b[0m\u001b[0m\n\u001b[0;32m--> 323\u001b[0;31m             \u001b[0mself\u001b[0m\u001b[0;34m.\u001b[0m\u001b[0m_save_chunk\u001b[0m\u001b[0;34m(\u001b[0m\u001b[0mstart_i\u001b[0m\u001b[0;34m,\u001b[0m \u001b[0mend_i\u001b[0m\u001b[0;34m)\u001b[0m\u001b[0;34m\u001b[0m\u001b[0;34m\u001b[0m\u001b[0m\n\u001b[0m\u001b[1;32m    324\u001b[0m \u001b[0;34m\u001b[0m\u001b[0m\n\u001b[1;32m    325\u001b[0m     \u001b[0;32mdef\u001b[0m \u001b[0m_save_chunk\u001b[0m\u001b[0;34m(\u001b[0m\u001b[0mself\u001b[0m\u001b[0;34m,\u001b[0m \u001b[0mstart_i\u001b[0m\u001b[0;34m:\u001b[0m \u001b[0mint\u001b[0m\u001b[0;34m,\u001b[0m \u001b[0mend_i\u001b[0m\u001b[0;34m:\u001b[0m \u001b[0mint\u001b[0m\u001b[0;34m)\u001b[0m \u001b[0;34m->\u001b[0m \u001b[0;32mNone\u001b[0m\u001b[0;34m:\u001b[0m\u001b[0;34m\u001b[0m\u001b[0;34m\u001b[0m\u001b[0m\n",
      "\u001b[0;32m~/miniconda3/envs/aws-micro-etl/lib/python3.8/site-packages/pandas/io/formats/csvs.py\u001b[0m in \u001b[0;36m_save_chunk\u001b[0;34m(self, start_i, end_i)\u001b[0m\n\u001b[1;32m    352\u001b[0m         )\n\u001b[1;32m    353\u001b[0m \u001b[0;34m\u001b[0m\u001b[0m\n\u001b[0;32m--> 354\u001b[0;31m         \u001b[0mlibwriters\u001b[0m\u001b[0;34m.\u001b[0m\u001b[0mwrite_csv_rows\u001b[0m\u001b[0;34m(\u001b[0m\u001b[0mself\u001b[0m\u001b[0;34m.\u001b[0m\u001b[0mdata\u001b[0m\u001b[0;34m,\u001b[0m \u001b[0mix\u001b[0m\u001b[0;34m,\u001b[0m \u001b[0mself\u001b[0m\u001b[0;34m.\u001b[0m\u001b[0mnlevels\u001b[0m\u001b[0;34m,\u001b[0m \u001b[0mself\u001b[0m\u001b[0;34m.\u001b[0m\u001b[0mcols\u001b[0m\u001b[0;34m,\u001b[0m \u001b[0mself\u001b[0m\u001b[0;34m.\u001b[0m\u001b[0mwriter\u001b[0m\u001b[0;34m)\u001b[0m\u001b[0;34m\u001b[0m\u001b[0;34m\u001b[0m\u001b[0m\n\u001b[0m",
      "\u001b[0;32mpandas/_libs/writers.pyx\u001b[0m in \u001b[0;36mpandas._libs.writers.write_csv_rows\u001b[0;34m()\u001b[0m\n",
      "\u001b[0;32m~/miniconda3/envs/aws-micro-etl/lib/python3.8/site-packages/fsspec/spec.py\u001b[0m in \u001b[0;36mwrite\u001b[0;34m(self, data)\u001b[0m\n\u001b[1;32m   1148\u001b[0m         \u001b[0mself\u001b[0m\u001b[0;34m.\u001b[0m\u001b[0mloc\u001b[0m \u001b[0;34m+=\u001b[0m \u001b[0mout\u001b[0m\u001b[0;34m\u001b[0m\u001b[0;34m\u001b[0m\u001b[0m\n\u001b[1;32m   1149\u001b[0m         \u001b[0;32mif\u001b[0m \u001b[0mself\u001b[0m\u001b[0;34m.\u001b[0m\u001b[0mbuffer\u001b[0m\u001b[0;34m.\u001b[0m\u001b[0mtell\u001b[0m\u001b[0;34m(\u001b[0m\u001b[0;34m)\u001b[0m \u001b[0;34m>=\u001b[0m \u001b[0mself\u001b[0m\u001b[0;34m.\u001b[0m\u001b[0mblocksize\u001b[0m\u001b[0;34m:\u001b[0m\u001b[0;34m\u001b[0m\u001b[0;34m\u001b[0m\u001b[0m\n\u001b[0;32m-> 1150\u001b[0;31m             \u001b[0mself\u001b[0m\u001b[0;34m.\u001b[0m\u001b[0mflush\u001b[0m\u001b[0;34m(\u001b[0m\u001b[0;34m)\u001b[0m\u001b[0;34m\u001b[0m\u001b[0;34m\u001b[0m\u001b[0m\n\u001b[0m\u001b[1;32m   1151\u001b[0m         \u001b[0;32mreturn\u001b[0m \u001b[0mout\u001b[0m\u001b[0;34m\u001b[0m\u001b[0;34m\u001b[0m\u001b[0m\n\u001b[1;32m   1152\u001b[0m \u001b[0;34m\u001b[0m\u001b[0m\n",
      "\u001b[0;32m~/miniconda3/envs/aws-micro-etl/lib/python3.8/site-packages/fsspec/spec.py\u001b[0m in \u001b[0;36mflush\u001b[0;34m(self, force)\u001b[0m\n\u001b[1;32m   1183\u001b[0m             \u001b[0;31m# Initialize a multipart upload\u001b[0m\u001b[0;34m\u001b[0m\u001b[0;34m\u001b[0m\u001b[0;34m\u001b[0m\u001b[0m\n\u001b[1;32m   1184\u001b[0m             \u001b[0mself\u001b[0m\u001b[0;34m.\u001b[0m\u001b[0moffset\u001b[0m \u001b[0;34m=\u001b[0m \u001b[0;36m0\u001b[0m\u001b[0;34m\u001b[0m\u001b[0;34m\u001b[0m\u001b[0m\n\u001b[0;32m-> 1185\u001b[0;31m             \u001b[0mself\u001b[0m\u001b[0;34m.\u001b[0m\u001b[0m_initiate_upload\u001b[0m\u001b[0;34m(\u001b[0m\u001b[0;34m)\u001b[0m\u001b[0;34m\u001b[0m\u001b[0;34m\u001b[0m\u001b[0m\n\u001b[0m\u001b[1;32m   1186\u001b[0m \u001b[0;34m\u001b[0m\u001b[0m\n\u001b[1;32m   1187\u001b[0m         \u001b[0;32mif\u001b[0m \u001b[0mself\u001b[0m\u001b[0;34m.\u001b[0m\u001b[0m_upload_chunk\u001b[0m\u001b[0;34m(\u001b[0m\u001b[0mfinal\u001b[0m\u001b[0;34m=\u001b[0m\u001b[0mforce\u001b[0m\u001b[0;34m)\u001b[0m \u001b[0;32mis\u001b[0m \u001b[0;32mnot\u001b[0m \u001b[0;32mFalse\u001b[0m\u001b[0;34m:\u001b[0m\u001b[0;34m\u001b[0m\u001b[0;34m\u001b[0m\u001b[0m\n",
      "\u001b[0;32m~/miniconda3/envs/aws-micro-etl/lib/python3.8/site-packages/s3fs/core.py\u001b[0m in \u001b[0;36m_initiate_upload\u001b[0;34m(self)\u001b[0m\n\u001b[1;32m   1142\u001b[0m                 Bucket=self.bucket, Key=self.key, ACL=self.acl)\n\u001b[1;32m   1143\u001b[0m         \u001b[0;32mexcept\u001b[0m \u001b[0mClientError\u001b[0m \u001b[0;32mas\u001b[0m \u001b[0me\u001b[0m\u001b[0;34m:\u001b[0m\u001b[0;34m\u001b[0m\u001b[0;34m\u001b[0m\u001b[0m\n\u001b[0;32m-> 1144\u001b[0;31m             \u001b[0;32mraise\u001b[0m \u001b[0mtranslate_boto_error\u001b[0m\u001b[0;34m(\u001b[0m\u001b[0me\u001b[0m\u001b[0;34m)\u001b[0m\u001b[0;34m\u001b[0m\u001b[0;34m\u001b[0m\u001b[0m\n\u001b[0m\u001b[1;32m   1145\u001b[0m         \u001b[0;32mexcept\u001b[0m \u001b[0mParamValidationError\u001b[0m \u001b[0;32mas\u001b[0m \u001b[0me\u001b[0m\u001b[0;34m:\u001b[0m\u001b[0;34m\u001b[0m\u001b[0;34m\u001b[0m\u001b[0m\n\u001b[1;32m   1146\u001b[0m             \u001b[0;32mraise\u001b[0m \u001b[0mValueError\u001b[0m\u001b[0;34m(\u001b[0m\u001b[0;34m'Initiating write to %r failed: %s'\u001b[0m \u001b[0;34m%\u001b[0m \u001b[0;34m(\u001b[0m\u001b[0mself\u001b[0m\u001b[0;34m.\u001b[0m\u001b[0mpath\u001b[0m\u001b[0;34m,\u001b[0m \u001b[0me\u001b[0m\u001b[0;34m)\u001b[0m\u001b[0;34m)\u001b[0m\u001b[0;34m\u001b[0m\u001b[0;34m\u001b[0m\u001b[0m\n",
      "\u001b[0;31mPermissionError\u001b[0m: Access Denied"
     ]
    }
   ],
   "source": [
    "df.to_csv('s3://YOUR_BUCKET_NAME/YOUR_FILENAME.csv')"
   ]
  }
 ],
 "metadata": {
  "kernelspec": {
   "display_name": "Python 3",
   "language": "python",
   "name": "python3"
  },
  "language_info": {
   "codemirror_mode": {
    "name": "ipython",
    "version": 3
   },
   "file_extension": ".py",
   "mimetype": "text/x-python",
   "name": "python",
   "nbconvert_exporter": "python",
   "pygments_lexer": "ipython3",
   "version": "3.8.3"
  }
 },
 "nbformat": 4,
 "nbformat_minor": 4
}
